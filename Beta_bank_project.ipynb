{
 "cells": [
  {
   "cell_type": "markdown",
   "metadata": {
    "toc": true
   },
   "source": [
    "<h1>Содержание<span class=\"tocSkip\"></span></h1>\n",
    "<div class=\"toc\"><ul class=\"toc-item\"><li><span><a href=\"#Подготовка-данных\" data-toc-modified-id=\"Подготовка-данных-1\"><span class=\"toc-item-num\">1&nbsp;&nbsp;</span>Подготовка данных</a></span></li><li><span><a href=\"#Исследование-задачи\" data-toc-modified-id=\"Исследование-задачи-2\"><span class=\"toc-item-num\">2&nbsp;&nbsp;</span>Исследование задачи</a></span></li><li><span><a href=\"#Борьба-с-дисбалансом\" data-toc-modified-id=\"Борьба-с-дисбалансом-3\"><span class=\"toc-item-num\">3&nbsp;&nbsp;</span>Борьба с дисбалансом</a></span><ul class=\"toc-item\"><li><span><a href=\"#Изучение-моделей-логистической-регрессии-при-учёте-дисбаланса\" data-toc-modified-id=\"Изучение-моделей-логистической-регрессии-при-учёте-дисбаланса-3.1\"><span class=\"toc-item-num\">3.1&nbsp;&nbsp;</span>Изучение моделей логистической регрессии при учёте дисбаланса</a></span></li><li><span><a href=\"#Изучение-моделей-случайного-леса-при-учёте-дисбаланса\" data-toc-modified-id=\"Изучение-моделей-случайного-леса-при-учёте-дисбаланса-3.2\"><span class=\"toc-item-num\">3.2&nbsp;&nbsp;</span>Изучение моделей случайного леса при учёте дисбаланса</a></span></li></ul></li><li><span><a href=\"#Тестирование-модели\" data-toc-modified-id=\"Тестирование-модели-4\"><span class=\"toc-item-num\">4&nbsp;&nbsp;</span>Тестирование модели</a></span></li><li><span><a href=\"#Чек-лист-готовности-проекта\" data-toc-modified-id=\"Чек-лист-готовности-проекта-5\"><span class=\"toc-item-num\">5&nbsp;&nbsp;</span>Чек-лист готовности проекта</a></span></li></ul></div>"
   ]
  },
  {
   "cell_type": "markdown",
   "metadata": {},
   "source": [
    "# Отток клиентов"
   ]
  },
  {
   "cell_type": "markdown",
   "metadata": {},
   "source": [
    "Из «Бета-Банка» стали уходить клиенты. Каждый месяц. Немного, но заметно. Банковские маркетологи посчитали: сохранять текущих клиентов дешевле, чем привлекать новых.\n",
    "\n",
    "Нужно спрогнозировать, уйдёт клиент из банка в ближайшее время или нет. Вам предоставлены исторические данные о поведении клиентов и расторжении договоров с банком. \n",
    "\n",
    "Постройте модель с предельно большим значением *F1*-меры. Чтобы сдать проект успешно, нужно довести метрику до 0.59. Проверьте *F1*-меру на тестовой выборке самостоятельно.\n",
    "\n",
    "Дополнительно измеряйте *AUC-ROC*, сравнивайте её значение с *F1*-мерой.\n",
    "\n",
    "Источник данных: [https://www.kaggle.com/barelydedicated/bank-customer-churn-modeling](https://www.kaggle.com/barelydedicated/bank-customer-churn-modeling)"
   ]
  },
  {
   "cell_type": "markdown",
   "metadata": {},
   "source": [
    "## Подготовка данных"
   ]
  },
  {
   "cell_type": "markdown",
   "metadata": {},
   "source": [
    "Для решения задачи необходимо построить модель с максимально большим значением *F1*-меры. Заказчик требует довести метрику до 60%. Первым шагом будет получение и изучение данных для обучения моделей. Для обучения модели необходимо кодировать категориальные значения, а также исключить пропуски в данных. Далее разделим кодированный датафрейм на обучающую, валидационную и тестовые выборки. Проверим данные на дисбаланс, исследуем его влияние на поведение модели, уменьшим влияние данного дисбаланса. Так как перед нами стоит задача классификации, то обучим несколько моделей (Логистическая регрессия, Дерево решений и Случайный лес) и выделим лучшую с помощью метрики *F1*. Проверим *F1*-меру на тестовой выборке самостоятельно (предварительно дообучив модель на валидационной выборке, т.к. чем больше данных - тем лучше), затем измерим *AUC-ROC*, сравним её значение с *F1*-мерой."
   ]
  },
  {
   "cell_type": "markdown",
   "metadata": {},
   "source": []
  },
  {
   "cell_type": "code",
   "execution_count": 1,
   "metadata": {},
   "outputs": [],
   "source": [
    "import matplotlib.pyplot as plt\n",
    "import numpy as np\n",
    "import pandas as pd\n",
    "import warnings\n",
    "\n",
    "from tqdm import tqdm\n",
    "\n",
    "from pandas.api.types import is_string_dtype\n",
    "\n",
    "from sklearn.compose import make_column_transformer\n",
    "from sklearn.ensemble import RandomForestClassifier\n",
    "from sklearn.exceptions import DataConversionWarning\n",
    "from sklearn.linear_model import LogisticRegression\n",
    "from sklearn.metrics import accuracy_score, confusion_matrix, f1_score, roc_curve, roc_auc_score, auc\n",
    "from sklearn.model_selection import train_test_split\n",
    "from sklearn.preprocessing import OneHotEncoder, StandardScaler\n",
    "from sklearn.tree import DecisionTreeClassifier\n",
    "from sklearn.utils import shuffle"
   ]
  },
  {
   "cell_type": "markdown",
   "metadata": {},
   "source": [
    "Для начала отключим предупреждения от sklearn"
   ]
  },
  {
   "cell_type": "code",
   "execution_count": 2,
   "metadata": {},
   "outputs": [],
   "source": [
    "warnings.filterwarnings(action='ignore', category=DataConversionWarning)"
   ]
  },
  {
   "cell_type": "code",
   "execution_count": 3,
   "metadata": {},
   "outputs": [],
   "source": [
    "try:\n",
    "    df = pd.read_csv('/datasets/Churn.csv')\n",
    "except Exception:\n",
    "    df = pd.read_csv('https://code.s3.yandex.net/datasets/Churn.csv')"
   ]
  },
  {
   "cell_type": "code",
   "execution_count": 4,
   "metadata": {},
   "outputs": [],
   "source": [
    "def describe_dataframe(dataframe):\n",
    "    display(dataframe.head(10))\n",
    "    display(dataframe.info())\n",
    "    display(dataframe.describe(percentiles=[.5]).T)\n",
    "    print(f\"Количество дублированных строк: {dataframe.duplicated().sum()}\")"
   ]
  },
  {
   "cell_type": "code",
   "execution_count": 5,
   "metadata": {},
   "outputs": [
    {
     "data": {
      "text/plain": "     RowNumber  CustomerId    Surname  CreditScore Geography  Gender  Age  \\\n30          31    15589475    Azikiwe          591     Spain  Female   39   \n48          49    15766205        Yin          550   Germany    Male   38   \n51          52    15768193  Trevisani          585   Germany    Male   36   \n53          54    15702298   Parkhill          655   Germany    Male   41   \n60          61    15651280     Hunter          742   Germany    Male   35   \n82          83    15641732      Mills          543    France  Female   36   \n85          86    15805254    Ndukaku          652     Spain  Female   75   \n94          95    15676966      Capon          730     Spain    Male   42   \n99         100    15633059    Fanucci          413    France    Male   34   \n111        112    15665790   Rowntree          538   Germany    Male   39   \n\n     Tenure    Balance  NumOfProducts  HasCrCard  IsActiveMember  \\\n30      NaN       0.00              3          1               0   \n48      NaN  103391.38              1          0               1   \n51      NaN  146050.97              2          0               0   \n53      NaN  125561.97              1          0               0   \n60      NaN  136857.00              1          0               0   \n82      NaN       0.00              2          0               0   \n85      NaN       0.00              2          1               1   \n94      NaN       0.00              2          0               1   \n99      NaN       0.00              2          0               0   \n111     NaN  108055.10              2          1               0   \n\n     EstimatedSalary  Exited  \n30         140469.38       1  \n48          90878.13       0  \n51          86424.57       0  \n53         164040.94       1  \n60          84509.57       0  \n82          26019.59       0  \n85         114675.75       0  \n94          85982.47       0  \n99           6534.18       0  \n111         27231.26       0  ",
      "text/html": "<div>\n<style scoped>\n    .dataframe tbody tr th:only-of-type {\n        vertical-align: middle;\n    }\n\n    .dataframe tbody tr th {\n        vertical-align: top;\n    }\n\n    .dataframe thead th {\n        text-align: right;\n    }\n</style>\n<table border=\"1\" class=\"dataframe\">\n  <thead>\n    <tr style=\"text-align: right;\">\n      <th></th>\n      <th>RowNumber</th>\n      <th>CustomerId</th>\n      <th>Surname</th>\n      <th>CreditScore</th>\n      <th>Geography</th>\n      <th>Gender</th>\n      <th>Age</th>\n      <th>Tenure</th>\n      <th>Balance</th>\n      <th>NumOfProducts</th>\n      <th>HasCrCard</th>\n      <th>IsActiveMember</th>\n      <th>EstimatedSalary</th>\n      <th>Exited</th>\n    </tr>\n  </thead>\n  <tbody>\n    <tr>\n      <th>30</th>\n      <td>31</td>\n      <td>15589475</td>\n      <td>Azikiwe</td>\n      <td>591</td>\n      <td>Spain</td>\n      <td>Female</td>\n      <td>39</td>\n      <td>NaN</td>\n      <td>0.00</td>\n      <td>3</td>\n      <td>1</td>\n      <td>0</td>\n      <td>140469.38</td>\n      <td>1</td>\n    </tr>\n    <tr>\n      <th>48</th>\n      <td>49</td>\n      <td>15766205</td>\n      <td>Yin</td>\n      <td>550</td>\n      <td>Germany</td>\n      <td>Male</td>\n      <td>38</td>\n      <td>NaN</td>\n      <td>103391.38</td>\n      <td>1</td>\n      <td>0</td>\n      <td>1</td>\n      <td>90878.13</td>\n      <td>0</td>\n    </tr>\n    <tr>\n      <th>51</th>\n      <td>52</td>\n      <td>15768193</td>\n      <td>Trevisani</td>\n      <td>585</td>\n      <td>Germany</td>\n      <td>Male</td>\n      <td>36</td>\n      <td>NaN</td>\n      <td>146050.97</td>\n      <td>2</td>\n      <td>0</td>\n      <td>0</td>\n      <td>86424.57</td>\n      <td>0</td>\n    </tr>\n    <tr>\n      <th>53</th>\n      <td>54</td>\n      <td>15702298</td>\n      <td>Parkhill</td>\n      <td>655</td>\n      <td>Germany</td>\n      <td>Male</td>\n      <td>41</td>\n      <td>NaN</td>\n      <td>125561.97</td>\n      <td>1</td>\n      <td>0</td>\n      <td>0</td>\n      <td>164040.94</td>\n      <td>1</td>\n    </tr>\n    <tr>\n      <th>60</th>\n      <td>61</td>\n      <td>15651280</td>\n      <td>Hunter</td>\n      <td>742</td>\n      <td>Germany</td>\n      <td>Male</td>\n      <td>35</td>\n      <td>NaN</td>\n      <td>136857.00</td>\n      <td>1</td>\n      <td>0</td>\n      <td>0</td>\n      <td>84509.57</td>\n      <td>0</td>\n    </tr>\n    <tr>\n      <th>82</th>\n      <td>83</td>\n      <td>15641732</td>\n      <td>Mills</td>\n      <td>543</td>\n      <td>France</td>\n      <td>Female</td>\n      <td>36</td>\n      <td>NaN</td>\n      <td>0.00</td>\n      <td>2</td>\n      <td>0</td>\n      <td>0</td>\n      <td>26019.59</td>\n      <td>0</td>\n    </tr>\n    <tr>\n      <th>85</th>\n      <td>86</td>\n      <td>15805254</td>\n      <td>Ndukaku</td>\n      <td>652</td>\n      <td>Spain</td>\n      <td>Female</td>\n      <td>75</td>\n      <td>NaN</td>\n      <td>0.00</td>\n      <td>2</td>\n      <td>1</td>\n      <td>1</td>\n      <td>114675.75</td>\n      <td>0</td>\n    </tr>\n    <tr>\n      <th>94</th>\n      <td>95</td>\n      <td>15676966</td>\n      <td>Capon</td>\n      <td>730</td>\n      <td>Spain</td>\n      <td>Male</td>\n      <td>42</td>\n      <td>NaN</td>\n      <td>0.00</td>\n      <td>2</td>\n      <td>0</td>\n      <td>1</td>\n      <td>85982.47</td>\n      <td>0</td>\n    </tr>\n    <tr>\n      <th>99</th>\n      <td>100</td>\n      <td>15633059</td>\n      <td>Fanucci</td>\n      <td>413</td>\n      <td>France</td>\n      <td>Male</td>\n      <td>34</td>\n      <td>NaN</td>\n      <td>0.00</td>\n      <td>2</td>\n      <td>0</td>\n      <td>0</td>\n      <td>6534.18</td>\n      <td>0</td>\n    </tr>\n    <tr>\n      <th>111</th>\n      <td>112</td>\n      <td>15665790</td>\n      <td>Rowntree</td>\n      <td>538</td>\n      <td>Germany</td>\n      <td>Male</td>\n      <td>39</td>\n      <td>NaN</td>\n      <td>108055.10</td>\n      <td>2</td>\n      <td>1</td>\n      <td>0</td>\n      <td>27231.26</td>\n      <td>0</td>\n    </tr>\n  </tbody>\n</table>\n</div>"
     },
     "execution_count": 5,
     "metadata": {},
     "output_type": "execute_result"
    }
   ],
   "source": [
    "df.query(\"Tenure.isna()\").head(10)"
   ]
  },
  {
   "cell_type": "code",
   "execution_count": 6,
   "metadata": {},
   "outputs": [
    {
     "data": {
      "text/plain": "   RowNumber  CustomerId   Surname  CreditScore Geography  Gender  Age  \\\n0          1    15634602  Hargrave          619    France  Female   42   \n1          2    15647311      Hill          608     Spain  Female   41   \n2          3    15619304      Onio          502    France  Female   42   \n3          4    15701354      Boni          699    France  Female   39   \n4          5    15737888  Mitchell          850     Spain  Female   43   \n5          6    15574012       Chu          645     Spain    Male   44   \n6          7    15592531  Bartlett          822    France    Male   50   \n7          8    15656148    Obinna          376   Germany  Female   29   \n8          9    15792365        He          501    France    Male   44   \n9         10    15592389        H?          684    France    Male   27   \n\n   Tenure    Balance  NumOfProducts  HasCrCard  IsActiveMember  \\\n0     2.0       0.00              1          1               1   \n1     1.0   83807.86              1          0               1   \n2     8.0  159660.80              3          1               0   \n3     1.0       0.00              2          0               0   \n4     2.0  125510.82              1          1               1   \n5     8.0  113755.78              2          1               0   \n6     7.0       0.00              2          1               1   \n7     4.0  115046.74              4          1               0   \n8     4.0  142051.07              2          0               1   \n9     2.0  134603.88              1          1               1   \n\n   EstimatedSalary  Exited  \n0        101348.88       1  \n1        112542.58       0  \n2        113931.57       1  \n3         93826.63       0  \n4         79084.10       0  \n5        149756.71       1  \n6         10062.80       0  \n7        119346.88       1  \n8         74940.50       0  \n9         71725.73       0  ",
      "text/html": "<div>\n<style scoped>\n    .dataframe tbody tr th:only-of-type {\n        vertical-align: middle;\n    }\n\n    .dataframe tbody tr th {\n        vertical-align: top;\n    }\n\n    .dataframe thead th {\n        text-align: right;\n    }\n</style>\n<table border=\"1\" class=\"dataframe\">\n  <thead>\n    <tr style=\"text-align: right;\">\n      <th></th>\n      <th>RowNumber</th>\n      <th>CustomerId</th>\n      <th>Surname</th>\n      <th>CreditScore</th>\n      <th>Geography</th>\n      <th>Gender</th>\n      <th>Age</th>\n      <th>Tenure</th>\n      <th>Balance</th>\n      <th>NumOfProducts</th>\n      <th>HasCrCard</th>\n      <th>IsActiveMember</th>\n      <th>EstimatedSalary</th>\n      <th>Exited</th>\n    </tr>\n  </thead>\n  <tbody>\n    <tr>\n      <th>0</th>\n      <td>1</td>\n      <td>15634602</td>\n      <td>Hargrave</td>\n      <td>619</td>\n      <td>France</td>\n      <td>Female</td>\n      <td>42</td>\n      <td>2.0</td>\n      <td>0.00</td>\n      <td>1</td>\n      <td>1</td>\n      <td>1</td>\n      <td>101348.88</td>\n      <td>1</td>\n    </tr>\n    <tr>\n      <th>1</th>\n      <td>2</td>\n      <td>15647311</td>\n      <td>Hill</td>\n      <td>608</td>\n      <td>Spain</td>\n      <td>Female</td>\n      <td>41</td>\n      <td>1.0</td>\n      <td>83807.86</td>\n      <td>1</td>\n      <td>0</td>\n      <td>1</td>\n      <td>112542.58</td>\n      <td>0</td>\n    </tr>\n    <tr>\n      <th>2</th>\n      <td>3</td>\n      <td>15619304</td>\n      <td>Onio</td>\n      <td>502</td>\n      <td>France</td>\n      <td>Female</td>\n      <td>42</td>\n      <td>8.0</td>\n      <td>159660.80</td>\n      <td>3</td>\n      <td>1</td>\n      <td>0</td>\n      <td>113931.57</td>\n      <td>1</td>\n    </tr>\n    <tr>\n      <th>3</th>\n      <td>4</td>\n      <td>15701354</td>\n      <td>Boni</td>\n      <td>699</td>\n      <td>France</td>\n      <td>Female</td>\n      <td>39</td>\n      <td>1.0</td>\n      <td>0.00</td>\n      <td>2</td>\n      <td>0</td>\n      <td>0</td>\n      <td>93826.63</td>\n      <td>0</td>\n    </tr>\n    <tr>\n      <th>4</th>\n      <td>5</td>\n      <td>15737888</td>\n      <td>Mitchell</td>\n      <td>850</td>\n      <td>Spain</td>\n      <td>Female</td>\n      <td>43</td>\n      <td>2.0</td>\n      <td>125510.82</td>\n      <td>1</td>\n      <td>1</td>\n      <td>1</td>\n      <td>79084.10</td>\n      <td>0</td>\n    </tr>\n    <tr>\n      <th>5</th>\n      <td>6</td>\n      <td>15574012</td>\n      <td>Chu</td>\n      <td>645</td>\n      <td>Spain</td>\n      <td>Male</td>\n      <td>44</td>\n      <td>8.0</td>\n      <td>113755.78</td>\n      <td>2</td>\n      <td>1</td>\n      <td>0</td>\n      <td>149756.71</td>\n      <td>1</td>\n    </tr>\n    <tr>\n      <th>6</th>\n      <td>7</td>\n      <td>15592531</td>\n      <td>Bartlett</td>\n      <td>822</td>\n      <td>France</td>\n      <td>Male</td>\n      <td>50</td>\n      <td>7.0</td>\n      <td>0.00</td>\n      <td>2</td>\n      <td>1</td>\n      <td>1</td>\n      <td>10062.80</td>\n      <td>0</td>\n    </tr>\n    <tr>\n      <th>7</th>\n      <td>8</td>\n      <td>15656148</td>\n      <td>Obinna</td>\n      <td>376</td>\n      <td>Germany</td>\n      <td>Female</td>\n      <td>29</td>\n      <td>4.0</td>\n      <td>115046.74</td>\n      <td>4</td>\n      <td>1</td>\n      <td>0</td>\n      <td>119346.88</td>\n      <td>1</td>\n    </tr>\n    <tr>\n      <th>8</th>\n      <td>9</td>\n      <td>15792365</td>\n      <td>He</td>\n      <td>501</td>\n      <td>France</td>\n      <td>Male</td>\n      <td>44</td>\n      <td>4.0</td>\n      <td>142051.07</td>\n      <td>2</td>\n      <td>0</td>\n      <td>1</td>\n      <td>74940.50</td>\n      <td>0</td>\n    </tr>\n    <tr>\n      <th>9</th>\n      <td>10</td>\n      <td>15592389</td>\n      <td>H?</td>\n      <td>684</td>\n      <td>France</td>\n      <td>Male</td>\n      <td>27</td>\n      <td>2.0</td>\n      <td>134603.88</td>\n      <td>1</td>\n      <td>1</td>\n      <td>1</td>\n      <td>71725.73</td>\n      <td>0</td>\n    </tr>\n  </tbody>\n</table>\n</div>"
     },
     "metadata": {},
     "output_type": "display_data"
    },
    {
     "name": "stdout",
     "output_type": "stream",
     "text": [
      "<class 'pandas.core.frame.DataFrame'>\n",
      "RangeIndex: 10000 entries, 0 to 9999\n",
      "Data columns (total 14 columns):\n",
      " #   Column           Non-Null Count  Dtype  \n",
      "---  ------           --------------  -----  \n",
      " 0   RowNumber        10000 non-null  int64  \n",
      " 1   CustomerId       10000 non-null  int64  \n",
      " 2   Surname          10000 non-null  object \n",
      " 3   CreditScore      10000 non-null  int64  \n",
      " 4   Geography        10000 non-null  object \n",
      " 5   Gender           10000 non-null  object \n",
      " 6   Age              10000 non-null  int64  \n",
      " 7   Tenure           9091 non-null   float64\n",
      " 8   Balance          10000 non-null  float64\n",
      " 9   NumOfProducts    10000 non-null  int64  \n",
      " 10  HasCrCard        10000 non-null  int64  \n",
      " 11  IsActiveMember   10000 non-null  int64  \n",
      " 12  EstimatedSalary  10000 non-null  float64\n",
      " 13  Exited           10000 non-null  int64  \n",
      "dtypes: float64(3), int64(8), object(3)\n",
      "memory usage: 1.1+ MB\n"
     ]
    },
    {
     "data": {
      "text/plain": "None"
     },
     "metadata": {},
     "output_type": "display_data"
    },
    {
     "data": {
      "text/plain": "                   count          mean           std          min  \\\nRowNumber        10000.0  5.000500e+03   2886.895680         1.00   \nCustomerId       10000.0  1.569094e+07  71936.186123  15565701.00   \nCreditScore      10000.0  6.505288e+02     96.653299       350.00   \nAge              10000.0  3.892180e+01     10.487806        18.00   \nTenure            9091.0  4.997690e+00      2.894723         0.00   \nBalance          10000.0  7.648589e+04  62397.405202         0.00   \nNumOfProducts    10000.0  1.530200e+00      0.581654         1.00   \nHasCrCard        10000.0  7.055000e-01      0.455840         0.00   \nIsActiveMember   10000.0  5.151000e-01      0.499797         0.00   \nEstimatedSalary  10000.0  1.000902e+05  57510.492818        11.58   \nExited           10000.0  2.037000e-01      0.402769         0.00   \n\n                          50%          max  \nRowNumber        5.000500e+03     10000.00  \nCustomerId       1.569074e+07  15815690.00  \nCreditScore      6.520000e+02       850.00  \nAge              3.700000e+01        92.00  \nTenure           5.000000e+00        10.00  \nBalance          9.719854e+04    250898.09  \nNumOfProducts    1.000000e+00         4.00  \nHasCrCard        1.000000e+00         1.00  \nIsActiveMember   1.000000e+00         1.00  \nEstimatedSalary  1.001939e+05    199992.48  \nExited           0.000000e+00         1.00  ",
      "text/html": "<div>\n<style scoped>\n    .dataframe tbody tr th:only-of-type {\n        vertical-align: middle;\n    }\n\n    .dataframe tbody tr th {\n        vertical-align: top;\n    }\n\n    .dataframe thead th {\n        text-align: right;\n    }\n</style>\n<table border=\"1\" class=\"dataframe\">\n  <thead>\n    <tr style=\"text-align: right;\">\n      <th></th>\n      <th>count</th>\n      <th>mean</th>\n      <th>std</th>\n      <th>min</th>\n      <th>50%</th>\n      <th>max</th>\n    </tr>\n  </thead>\n  <tbody>\n    <tr>\n      <th>RowNumber</th>\n      <td>10000.0</td>\n      <td>5.000500e+03</td>\n      <td>2886.895680</td>\n      <td>1.00</td>\n      <td>5.000500e+03</td>\n      <td>10000.00</td>\n    </tr>\n    <tr>\n      <th>CustomerId</th>\n      <td>10000.0</td>\n      <td>1.569094e+07</td>\n      <td>71936.186123</td>\n      <td>15565701.00</td>\n      <td>1.569074e+07</td>\n      <td>15815690.00</td>\n    </tr>\n    <tr>\n      <th>CreditScore</th>\n      <td>10000.0</td>\n      <td>6.505288e+02</td>\n      <td>96.653299</td>\n      <td>350.00</td>\n      <td>6.520000e+02</td>\n      <td>850.00</td>\n    </tr>\n    <tr>\n      <th>Age</th>\n      <td>10000.0</td>\n      <td>3.892180e+01</td>\n      <td>10.487806</td>\n      <td>18.00</td>\n      <td>3.700000e+01</td>\n      <td>92.00</td>\n    </tr>\n    <tr>\n      <th>Tenure</th>\n      <td>9091.0</td>\n      <td>4.997690e+00</td>\n      <td>2.894723</td>\n      <td>0.00</td>\n      <td>5.000000e+00</td>\n      <td>10.00</td>\n    </tr>\n    <tr>\n      <th>Balance</th>\n      <td>10000.0</td>\n      <td>7.648589e+04</td>\n      <td>62397.405202</td>\n      <td>0.00</td>\n      <td>9.719854e+04</td>\n      <td>250898.09</td>\n    </tr>\n    <tr>\n      <th>NumOfProducts</th>\n      <td>10000.0</td>\n      <td>1.530200e+00</td>\n      <td>0.581654</td>\n      <td>1.00</td>\n      <td>1.000000e+00</td>\n      <td>4.00</td>\n    </tr>\n    <tr>\n      <th>HasCrCard</th>\n      <td>10000.0</td>\n      <td>7.055000e-01</td>\n      <td>0.455840</td>\n      <td>0.00</td>\n      <td>1.000000e+00</td>\n      <td>1.00</td>\n    </tr>\n    <tr>\n      <th>IsActiveMember</th>\n      <td>10000.0</td>\n      <td>5.151000e-01</td>\n      <td>0.499797</td>\n      <td>0.00</td>\n      <td>1.000000e+00</td>\n      <td>1.00</td>\n    </tr>\n    <tr>\n      <th>EstimatedSalary</th>\n      <td>10000.0</td>\n      <td>1.000902e+05</td>\n      <td>57510.492818</td>\n      <td>11.58</td>\n      <td>1.001939e+05</td>\n      <td>199992.48</td>\n    </tr>\n    <tr>\n      <th>Exited</th>\n      <td>10000.0</td>\n      <td>2.037000e-01</td>\n      <td>0.402769</td>\n      <td>0.00</td>\n      <td>0.000000e+00</td>\n      <td>1.00</td>\n    </tr>\n  </tbody>\n</table>\n</div>"
     },
     "metadata": {},
     "output_type": "display_data"
    },
    {
     "name": "stdout",
     "output_type": "stream",
     "text": [
      "Количество дублированных строк: 0\n"
     ]
    }
   ],
   "source": [
    "describe_dataframe(df)"
   ]
  },
  {
   "cell_type": "markdown",
   "metadata": {},
   "source": [
    "<b>Признаки</b>\n",
    "RowNumber — индекс строки в данных\n",
    "CustomerId — уникальный идентификатор клиента\n",
    "Surname — фамилия\n",
    "CreditScore — кредитный рейтинг\n",
    "Geography — страна проживания\n",
    "Gender — пол\n",
    "Age — возраст\n",
    "Tenure — сколько лет человек является клиентом банка\n",
    "Balance — баланс на счёте\n",
    "NumOfProducts — количество продуктов банка, используемых клиентом\n",
    "HasCrCard — наличие кредитной карты\n",
    "IsActiveMember — активность клиента\n",
    "EstimatedSalary — предполагаемая зарплата\n",
    "\n",
    "<b>Целевой признак</b>\n",
    "Exited — факт ухода клиента"
   ]
  },
  {
   "cell_type": "markdown",
   "metadata": {},
   "source": [
    "Вывод из исследования данных: в столбце Tenure недостает 9% значений - заменим их нулями. Также имеется 3 столбца с категориальными значениями, которые следует привести к числовому виду. Для этого подойдет метод One-Hot Encoding. Она подходит для решения нашей задачи: работает со всеми моделями. Это критично, так как проверять будем большое количество моделей с разными параметрами."
   ]
  },
  {
   "cell_type": "markdown",
   "metadata": {},
   "source": [
    "Заполним нулями недостающие данные в колонке \"Tenure\""
   ]
  },
  {
   "cell_type": "code",
   "execution_count": 7,
   "metadata": {},
   "outputs": [],
   "source": [
    "df[\"Tenure\"].fillna(0, inplace=True)"
   ]
  },
  {
   "cell_type": "markdown",
   "metadata": {},
   "source": [
    "Поделим датасет на признаки и искомое значение."
   ]
  },
  {
   "cell_type": "code",
   "execution_count": 8,
   "outputs": [],
   "source": [
    "target = df['Exited']\n",
    "features = df.drop(['Exited'], axis=1)"
   ],
   "metadata": {
    "collapsed": false
   }
  },
  {
   "cell_type": "markdown",
   "source": [
    "Разделим данные на обучающую, валидационную и тестовую выборки (с учетом дисбаланса)."
   ],
   "metadata": {
    "collapsed": false
   }
  },
  {
   "cell_type": "code",
   "execution_count": 9,
   "outputs": [],
   "source": [
    "features_train, features_valid, target_train, target_valid = train_test_split(\n",
    "    features, target, test_size=.2, random_state=12345, stratify=target)\n",
    "features_train, features_test, target_train, target_test = train_test_split(\n",
    "    features_train, target_train, test_size=.25, random_state=12345, stratify=target_train)"
   ],
   "metadata": {
    "collapsed": false
   }
  },
  {
   "cell_type": "code",
   "execution_count": 10,
   "outputs": [],
   "source": [
    "categorical_columns = list(filter(lambda column: is_string_dtype(features_train[column]), features.columns))\n",
    "numeric_columns = list(filter(lambda column: not is_string_dtype(features_train[column]), features.columns))"
   ],
   "metadata": {
    "collapsed": false
   }
  },
  {
   "cell_type": "markdown",
   "source": [
    "Далее кодируем значения категориальных переменных."
   ],
   "metadata": {
    "collapsed": false
   }
  },
  {
   "cell_type": "code",
   "execution_count": 11,
   "outputs": [
    {
     "data": {
      "text/plain": "OneHotEncoder(drop='first', handle_unknown='infrequent_if_exist')",
      "text/html": "<style>#sk-container-id-1 {color: black;background-color: white;}#sk-container-id-1 pre{padding: 0;}#sk-container-id-1 div.sk-toggleable {background-color: white;}#sk-container-id-1 label.sk-toggleable__label {cursor: pointer;display: block;width: 100%;margin-bottom: 0;padding: 0.3em;box-sizing: border-box;text-align: center;}#sk-container-id-1 label.sk-toggleable__label-arrow:before {content: \"▸\";float: left;margin-right: 0.25em;color: #696969;}#sk-container-id-1 label.sk-toggleable__label-arrow:hover:before {color: black;}#sk-container-id-1 div.sk-estimator:hover label.sk-toggleable__label-arrow:before {color: black;}#sk-container-id-1 div.sk-toggleable__content {max-height: 0;max-width: 0;overflow: hidden;text-align: left;background-color: #f0f8ff;}#sk-container-id-1 div.sk-toggleable__content pre {margin: 0.2em;color: black;border-radius: 0.25em;background-color: #f0f8ff;}#sk-container-id-1 input.sk-toggleable__control:checked~div.sk-toggleable__content {max-height: 200px;max-width: 100%;overflow: auto;}#sk-container-id-1 input.sk-toggleable__control:checked~label.sk-toggleable__label-arrow:before {content: \"▾\";}#sk-container-id-1 div.sk-estimator input.sk-toggleable__control:checked~label.sk-toggleable__label {background-color: #d4ebff;}#sk-container-id-1 div.sk-label input.sk-toggleable__control:checked~label.sk-toggleable__label {background-color: #d4ebff;}#sk-container-id-1 input.sk-hidden--visually {border: 0;clip: rect(1px 1px 1px 1px);clip: rect(1px, 1px, 1px, 1px);height: 1px;margin: -1px;overflow: hidden;padding: 0;position: absolute;width: 1px;}#sk-container-id-1 div.sk-estimator {font-family: monospace;background-color: #f0f8ff;border: 1px dotted black;border-radius: 0.25em;box-sizing: border-box;margin-bottom: 0.5em;}#sk-container-id-1 div.sk-estimator:hover {background-color: #d4ebff;}#sk-container-id-1 div.sk-parallel-item::after {content: \"\";width: 100%;border-bottom: 1px solid gray;flex-grow: 1;}#sk-container-id-1 div.sk-label:hover label.sk-toggleable__label {background-color: #d4ebff;}#sk-container-id-1 div.sk-serial::before {content: \"\";position: absolute;border-left: 1px solid gray;box-sizing: border-box;top: 0;bottom: 0;left: 50%;z-index: 0;}#sk-container-id-1 div.sk-serial {display: flex;flex-direction: column;align-items: center;background-color: white;padding-right: 0.2em;padding-left: 0.2em;position: relative;}#sk-container-id-1 div.sk-item {position: relative;z-index: 1;}#sk-container-id-1 div.sk-parallel {display: flex;align-items: stretch;justify-content: center;background-color: white;position: relative;}#sk-container-id-1 div.sk-item::before, #sk-container-id-1 div.sk-parallel-item::before {content: \"\";position: absolute;border-left: 1px solid gray;box-sizing: border-box;top: 0;bottom: 0;left: 50%;z-index: -1;}#sk-container-id-1 div.sk-parallel-item {display: flex;flex-direction: column;z-index: 1;position: relative;background-color: white;}#sk-container-id-1 div.sk-parallel-item:first-child::after {align-self: flex-end;width: 50%;}#sk-container-id-1 div.sk-parallel-item:last-child::after {align-self: flex-start;width: 50%;}#sk-container-id-1 div.sk-parallel-item:only-child::after {width: 0;}#sk-container-id-1 div.sk-dashed-wrapped {border: 1px dashed gray;margin: 0 0.4em 0.5em 0.4em;box-sizing: border-box;padding-bottom: 0.4em;background-color: white;}#sk-container-id-1 div.sk-label label {font-family: monospace;font-weight: bold;display: inline-block;line-height: 1.2em;}#sk-container-id-1 div.sk-label-container {text-align: center;}#sk-container-id-1 div.sk-container {/* jupyter's `normalize.less` sets `[hidden] { display: none; }` but bootstrap.min.css set `[hidden] { display: none !important; }` so we also need the `!important` here to be able to override the default hidden behavior on the sphinx rendered scikit-learn.org. See: https://github.com/scikit-learn/scikit-learn/issues/21755 */display: inline-block !important;position: relative;}#sk-container-id-1 div.sk-text-repr-fallback {display: none;}</style><div id=\"sk-container-id-1\" class=\"sk-top-container\"><div class=\"sk-text-repr-fallback\"><pre>OneHotEncoder(drop=&#x27;first&#x27;, handle_unknown=&#x27;infrequent_if_exist&#x27;)</pre><b>In a Jupyter environment, please rerun this cell to show the HTML representation or trust the notebook. <br />On GitHub, the HTML representation is unable to render, please try loading this page with nbviewer.org.</b></div><div class=\"sk-container\" hidden><div class=\"sk-item\"><div class=\"sk-estimator sk-toggleable\"><input class=\"sk-toggleable__control sk-hidden--visually\" id=\"sk-estimator-id-1\" type=\"checkbox\" checked><label for=\"sk-estimator-id-1\" class=\"sk-toggleable__label sk-toggleable__label-arrow\">OneHotEncoder</label><div class=\"sk-toggleable__content\"><pre>OneHotEncoder(drop=&#x27;first&#x27;, handle_unknown=&#x27;infrequent_if_exist&#x27;)</pre></div></div></div></div></div>"
     },
     "execution_count": 11,
     "metadata": {},
     "output_type": "execute_result"
    }
   ],
   "source": [
    "ohe_encoder = OneHotEncoder(drop='first', handle_unknown='infrequent_if_exist')\n",
    "ohe_encoder.fit(features_train[categorical_columns])"
   ],
   "metadata": {
    "collapsed": false
   }
  },
  {
   "cell_type": "code",
   "execution_count": 12,
   "outputs": [
    {
     "name": "stdout",
     "output_type": "stream",
     "text": [
      "<class 'pandas.core.frame.DataFrame'>\n",
      "Int64Index: 6000 entries, 5536 to 8193\n",
      "Columns: 2251 entries, RowNumber to Gender_Male\n",
      "dtypes: float64(2244), int64(7)\n",
      "memory usage: 103.1 MB\n"
     ]
    }
   ],
   "source": [
    "features_train_encoded = pd.DataFrame(\n",
    "    ohe_encoder.transform(features_train[categorical_columns]).toarray(),\n",
    "    columns=ohe_encoder.get_feature_names_out(categorical_columns),\n",
    "    index=features_train.index\n",
    ")\n",
    "features_train = pd.concat((features_train[numeric_columns], features_train_encoded), axis=1)\n",
    "features_train.info()"
   ],
   "metadata": {
    "collapsed": false
   }
  },
  {
   "cell_type": "code",
   "execution_count": 13,
   "outputs": [
    {
     "name": "stdout",
     "output_type": "stream",
     "text": [
      "<class 'pandas.core.frame.DataFrame'>\n",
      "Int64Index: 2000 entries, 9375 to 1674\n",
      "Columns: 2251 entries, RowNumber to Gender_Male\n",
      "dtypes: float64(2244), int64(7)\n",
      "memory usage: 34.4 MB\n"
     ]
    },
    {
     "name": "stderr",
     "output_type": "stream",
     "text": [
      "C:\\Users\\APMuravev\\AppData\\Local\\Programs\\Python\\Python311\\Lib\\site-packages\\sklearn\\preprocessing\\_encoders.py:202: UserWarning: Found unknown categories in columns [0] during transform. These unknown categories will be encoded as all zeros\n",
      "  warnings.warn(\n"
     ]
    }
   ],
   "source": [
    "features_test_encoded = pd.DataFrame(\n",
    "    ohe_encoder.transform(features_test[categorical_columns]).toarray(),\n",
    "    columns=ohe_encoder.get_feature_names_out(categorical_columns),\n",
    "    index=features_test.index\n",
    ")\n",
    "features_test = pd.concat(\n",
    "    (features_test[numeric_columns], features_test_encoded),\n",
    "    axis=1\n",
    ")\n",
    "features_test.info()"
   ],
   "metadata": {
    "collapsed": false
   }
  },
  {
   "cell_type": "code",
   "execution_count": 14,
   "outputs": [
    {
     "name": "stderr",
     "output_type": "stream",
     "text": [
      "C:\\Users\\APMuravev\\AppData\\Local\\Programs\\Python\\Python311\\Lib\\site-packages\\sklearn\\preprocessing\\_encoders.py:202: UserWarning: Found unknown categories in columns [0] during transform. These unknown categories will be encoded as all zeros\n",
      "  warnings.warn(\n"
     ]
    },
    {
     "name": "stdout",
     "output_type": "stream",
     "text": [
      "<class 'pandas.core.frame.DataFrame'>\n",
      "Int64Index: 2000 entries, 7837 to 1729\n",
      "Columns: 2251 entries, RowNumber to Gender_Male\n",
      "dtypes: float64(2244), int64(7)\n",
      "memory usage: 34.4 MB\n"
     ]
    }
   ],
   "source": [
    "features_valid_encoded = pd.DataFrame(\n",
    "    ohe_encoder.transform(features_valid[categorical_columns]).toarray(),\n",
    "    columns=ohe_encoder.get_feature_names_out(categorical_columns),\n",
    "    index=features_valid.index\n",
    ")\n",
    "features_valid = pd.concat(\n",
    "    (features_valid[numeric_columns], features_valid_encoded),\n",
    "    axis=1\n",
    ")\n",
    "features_valid.info()"
   ],
   "metadata": {
    "collapsed": false
   }
  },
  {
   "cell_type": "code",
   "execution_count": 15,
   "outputs": [],
   "source": [
    "target_test.index = features_test['RowNumber']\n",
    "features_test.index = features_test['RowNumber']\n",
    "features_test.drop(['RowNumber'], axis=1, inplace=True)"
   ],
   "metadata": {
    "collapsed": false
   }
  },
  {
   "cell_type": "code",
   "execution_count": 16,
   "outputs": [],
   "source": [
    "target_train.index = features_train['RowNumber']\n",
    "features_train.index = features_train['RowNumber']\n",
    "features_train.drop(['RowNumber'], axis=1, inplace=True)"
   ],
   "metadata": {
    "collapsed": false
   }
  },
  {
   "cell_type": "code",
   "execution_count": 17,
   "outputs": [],
   "source": [
    "target_valid.index = features_valid['RowNumber']\n",
    "features_valid.index = features_valid['RowNumber']\n",
    "features_valid.drop(['RowNumber'], axis=1, inplace=True)"
   ],
   "metadata": {
    "collapsed": false
   }
  },
  {
   "cell_type": "markdown",
   "metadata": {},
   "source": [
    "Данные готовы к исследованию."
   ]
  },
  {
   "cell_type": "markdown",
   "metadata": {},
   "source": [
    "## Исследование задачи"
   ]
  },
  {
   "cell_type": "markdown",
   "metadata": {},
   "source": [
    "Проверим таргет на дисбаланс. Посчитаем отношение нулей и единиц."
   ]
  },
  {
   "cell_type": "code",
   "execution_count": 18,
   "metadata": {},
   "outputs": [
    {
     "data": {
      "text/plain": "0.7965"
     },
     "execution_count": 18,
     "metadata": {},
     "output_type": "execute_result"
    }
   ],
   "source": [
    "accuracy_score(target_test, pd.Series(0, index=target_test.index))"
   ]
  },
  {
   "cell_type": "code",
   "execution_count": 19,
   "metadata": {},
   "outputs": [
    {
     "data": {
      "text/plain": "<Axes: >"
     },
     "execution_count": 19,
     "metadata": {},
     "output_type": "execute_result"
    },
    {
     "data": {
      "text/plain": "<Figure size 640x480 with 1 Axes>",
      "image/png": "[encoded data removed]"
     },
     "metadata": {},
     "output_type": "display_data"
    }
   ],
   "source": [
    "target_test.hist()"
   ]
  },
  {
   "cell_type": "markdown",
   "metadata": {},
   "source": [
    "Нулей 80% от общего количества значений в таргете, наблюдается явный дисбаланс классов. В других выборках дисбаланс аналогичен."
   ]
  },
  {
   "cell_type": "markdown",
   "metadata": {},
   "source": [
    "Для того чтобы у всех признаков был единый масштаб, стандартизируем их с помощью отдельной структуры для стандартизации данных sklearn.preprocessing.StandardScaler."
   ]
  },
  {
   "cell_type": "code",
   "execution_count": 20,
   "outputs": [
    {
     "data": {
      "text/plain": "           CustomerId  CreditScore       Age    Tenure   Balance  \\\nRowNumber                                                          \n5537         1.454988    -0.143332  0.577533 -1.456283 -1.220573   \n8531         0.166309     1.632702 -0.564119 -0.813711  0.435807   \n1763         1.730513     1.116413 -0.468981 -1.134997  1.245822   \n9091         1.706152     1.643028  0.006707  0.150148 -1.220573   \n8778         0.440831    -0.484083 -1.420358 -1.134997  1.421989   \n6145        -1.031978     0.445237  0.672671 -0.492424  1.206938   \n5498         0.264738     1.281625 -0.278706  1.114006  0.653989   \n8657         1.391810     0.104487 -0.754394 -1.134997  0.132478   \n8834         0.967436    -0.577015  1.053222  0.792720  0.080479   \n6385         1.680553    -1.248190 -0.754394  0.792720 -1.220573   \n\n           NumOfProducts  HasCrCard  IsActiveMember  EstimatedSalary  \\\nRowNumber                                                              \n5537            0.797767   0.652576        0.967527         1.029613   \n8531           -0.916018   0.652576       -1.033563         0.237986   \n1763           -0.916018   0.652576        0.967527        -0.686104   \n9091           -0.916018   0.652576       -1.033563        -0.391097   \n8778            0.797767   0.652576       -1.033563        -1.361559   \n6145           -0.916018   0.652576       -1.033563         1.399264   \n5498           -0.916018  -1.532388       -1.033563         0.028082   \n8657           -0.916018   0.652576        0.967527         0.652887   \n8834           -0.916018   0.652576        0.967527         1.453685   \n6385            0.797767   0.652576        0.967527         1.311712   \n\n           Surname_Abbott  ...  Surname_Zotov  Surname_Zox  Surname_Zubarev  \\\nRowNumber                  ...                                                \n5537            -0.022366  ...      -0.012911    -0.012911        -0.022366   \n8531            -0.022366  ...      -0.012911    -0.012911        -0.022366   \n1763            -0.022366  ...      -0.012911    -0.012911        -0.022366   \n9091            -0.022366  ...      -0.012911    -0.012911        -0.022366   \n8778            -0.022366  ...      -0.012911    -0.012911        -0.022366   \n6145            -0.022366  ...      -0.012911    -0.012911        -0.022366   \n5498            -0.022366  ...      -0.012911    -0.012911        -0.022366   \n8657            -0.022366  ...      -0.012911    -0.012911        -0.022366   \n8834            -0.022366  ...      -0.012911    -0.012911        -0.022366   \n6385            -0.022366  ...      -0.012911    -0.012911        -0.022366   \n\n           Surname_Zubareva  Surname_Zuev  Surname_Zuyev  Surname_Zuyeva  \\\nRowNumber                                                                  \n5537              -0.012911     -0.012911       -0.01826       -0.012911   \n8531              -0.012911     -0.012911       -0.01826       -0.012911   \n1763              -0.012911     -0.012911       -0.01826       -0.012911   \n9091              -0.012911     -0.012911       -0.01826       -0.012911   \n8778              -0.012911     -0.012911       -0.01826       -0.012911   \n6145              -0.012911     -0.012911       -0.01826       -0.012911   \n5498              -0.012911     -0.012911       -0.01826       -0.012911   \n8657              -0.012911     -0.012911       -0.01826       -0.012911   \n8834              -0.012911     -0.012911       -0.01826       -0.012911   \n6385              -0.012911     -0.012911       -0.01826       -0.012911   \n\n           Geography_Germany  Geography_Spain  Gender_Male  \nRowNumber                                                   \n5537               -0.572988         1.734363     0.915552  \n8531               -0.572988        -0.576580    -1.092237  \n1763               -0.572988        -0.576580    -1.092237  \n9091               -0.572988        -0.576580    -1.092237  \n8778               -0.572988         1.734363     0.915552  \n6145               -0.572988         1.734363    -1.092237  \n5498               -0.572988         1.734363    -1.092237  \n8657               -0.572988         1.734363     0.915552  \n8834               -0.572988        -0.576580     0.915552  \n6385               -0.572988        -0.576580    -1.092237  \n\n[10 rows x 2250 columns]",
      "text/html": "<div>\n<style scoped>\n    .dataframe tbody tr th:only-of-type {\n        vertical-align: middle;\n    }\n\n    .dataframe tbody tr th {\n        vertical-align: top;\n    }\n\n    .dataframe thead th {\n        text-align: right;\n    }\n</style>\n<table border=\"1\" class=\"dataframe\">\n  <thead>\n    <tr style=\"text-align: right;\">\n      <th></th>\n      <th>CustomerId</th>\n      <th>CreditScore</th>\n      <th>Age</th>\n      <th>Tenure</th>\n      <th>Balance</th>\n      <th>NumOfProducts</th>\n      <th>HasCrCard</th>\n      <th>IsActiveMember</th>\n      <th>EstimatedSalary</th>\n      <th>Surname_Abbott</th>\n      <th>...</th>\n      <th>Surname_Zotov</th>\n      <th>Surname_Zox</th>\n      <th>Surname_Zubarev</th>\n      <th>Surname_Zubareva</th>\n      <th>Surname_Zuev</th>\n      <th>Surname_Zuyev</th>\n      <th>Surname_Zuyeva</th>\n      <th>Geography_Germany</th>\n      <th>Geography_Spain</th>\n      <th>Gender_Male</th>\n    </tr>\n    <tr>\n      <th>RowNumber</th>\n      <th></th>\n      <th></th>\n      <th></th>\n      <th></th>\n      <th></th>\n      <th></th>\n      <th></th>\n      <th></th>\n      <th></th>\n      <th></th>\n      <th></th>\n      <th></th>\n      <th></th>\n      <th></th>\n      <th></th>\n      <th></th>\n      <th></th>\n      <th></th>\n      <th></th>\n      <th></th>\n      <th></th>\n    </tr>\n  </thead>\n  <tbody>\n    <tr>\n      <th>5537</th>\n      <td>1.454988</td>\n      <td>-0.143332</td>\n      <td>0.577533</td>\n      <td>-1.456283</td>\n      <td>-1.220573</td>\n      <td>0.797767</td>\n      <td>0.652576</td>\n      <td>0.967527</td>\n      <td>1.029613</td>\n      <td>-0.022366</td>\n      <td>...</td>\n      <td>-0.012911</td>\n      <td>-0.012911</td>\n      <td>-0.022366</td>\n      <td>-0.012911</td>\n      <td>-0.012911</td>\n      <td>-0.01826</td>\n      <td>-0.012911</td>\n      <td>-0.572988</td>\n      <td>1.734363</td>\n      <td>0.915552</td>\n    </tr>\n    <tr>\n      <th>8531</th>\n      <td>0.166309</td>\n      <td>1.632702</td>\n      <td>-0.564119</td>\n      <td>-0.813711</td>\n      <td>0.435807</td>\n      <td>-0.916018</td>\n      <td>0.652576</td>\n      <td>-1.033563</td>\n      <td>0.237986</td>\n      <td>-0.022366</td>\n      <td>...</td>\n      <td>-0.012911</td>\n      <td>-0.012911</td>\n      <td>-0.022366</td>\n      <td>-0.012911</td>\n      <td>-0.012911</td>\n      <td>-0.01826</td>\n      <td>-0.012911</td>\n      <td>-0.572988</td>\n      <td>-0.576580</td>\n      <td>-1.092237</td>\n    </tr>\n    <tr>\n      <th>1763</th>\n      <td>1.730513</td>\n      <td>1.116413</td>\n      <td>-0.468981</td>\n      <td>-1.134997</td>\n      <td>1.245822</td>\n      <td>-0.916018</td>\n      <td>0.652576</td>\n      <td>0.967527</td>\n      <td>-0.686104</td>\n      <td>-0.022366</td>\n      <td>...</td>\n      <td>-0.012911</td>\n      <td>-0.012911</td>\n      <td>-0.022366</td>\n      <td>-0.012911</td>\n      <td>-0.012911</td>\n      <td>-0.01826</td>\n      <td>-0.012911</td>\n      <td>-0.572988</td>\n      <td>-0.576580</td>\n      <td>-1.092237</td>\n    </tr>\n    <tr>\n      <th>9091</th>\n      <td>1.706152</td>\n      <td>1.643028</td>\n      <td>0.006707</td>\n      <td>0.150148</td>\n      <td>-1.220573</td>\n      <td>-0.916018</td>\n      <td>0.652576</td>\n      <td>-1.033563</td>\n      <td>-0.391097</td>\n      <td>-0.022366</td>\n      <td>...</td>\n      <td>-0.012911</td>\n      <td>-0.012911</td>\n      <td>-0.022366</td>\n      <td>-0.012911</td>\n      <td>-0.012911</td>\n      <td>-0.01826</td>\n      <td>-0.012911</td>\n      <td>-0.572988</td>\n      <td>-0.576580</td>\n      <td>-1.092237</td>\n    </tr>\n    <tr>\n      <th>8778</th>\n      <td>0.440831</td>\n      <td>-0.484083</td>\n      <td>-1.420358</td>\n      <td>-1.134997</td>\n      <td>1.421989</td>\n      <td>0.797767</td>\n      <td>0.652576</td>\n      <td>-1.033563</td>\n      <td>-1.361559</td>\n      <td>-0.022366</td>\n      <td>...</td>\n      <td>-0.012911</td>\n      <td>-0.012911</td>\n      <td>-0.022366</td>\n      <td>-0.012911</td>\n      <td>-0.012911</td>\n      <td>-0.01826</td>\n      <td>-0.012911</td>\n      <td>-0.572988</td>\n      <td>1.734363</td>\n      <td>0.915552</td>\n    </tr>\n    <tr>\n      <th>6145</th>\n      <td>-1.031978</td>\n      <td>0.445237</td>\n      <td>0.672671</td>\n      <td>-0.492424</td>\n      <td>1.206938</td>\n      <td>-0.916018</td>\n      <td>0.652576</td>\n      <td>-1.033563</td>\n      <td>1.399264</td>\n      <td>-0.022366</td>\n      <td>...</td>\n      <td>-0.012911</td>\n      <td>-0.012911</td>\n      <td>-0.022366</td>\n      <td>-0.012911</td>\n      <td>-0.012911</td>\n      <td>-0.01826</td>\n      <td>-0.012911</td>\n      <td>-0.572988</td>\n      <td>1.734363</td>\n      <td>-1.092237</td>\n    </tr>\n    <tr>\n      <th>5498</th>\n      <td>0.264738</td>\n      <td>1.281625</td>\n      <td>-0.278706</td>\n      <td>1.114006</td>\n      <td>0.653989</td>\n      <td>-0.916018</td>\n      <td>-1.532388</td>\n      <td>-1.033563</td>\n      <td>0.028082</td>\n      <td>-0.022366</td>\n      <td>...</td>\n      <td>-0.012911</td>\n      <td>-0.012911</td>\n      <td>-0.022366</td>\n      <td>-0.012911</td>\n      <td>-0.012911</td>\n      <td>-0.01826</td>\n      <td>-0.012911</td>\n      <td>-0.572988</td>\n      <td>1.734363</td>\n      <td>-1.092237</td>\n    </tr>\n    <tr>\n      <th>8657</th>\n      <td>1.391810</td>\n      <td>0.104487</td>\n      <td>-0.754394</td>\n      <td>-1.134997</td>\n      <td>0.132478</td>\n      <td>-0.916018</td>\n      <td>0.652576</td>\n      <td>0.967527</td>\n      <td>0.652887</td>\n      <td>-0.022366</td>\n      <td>...</td>\n      <td>-0.012911</td>\n      <td>-0.012911</td>\n      <td>-0.022366</td>\n      <td>-0.012911</td>\n      <td>-0.012911</td>\n      <td>-0.01826</td>\n      <td>-0.012911</td>\n      <td>-0.572988</td>\n      <td>1.734363</td>\n      <td>0.915552</td>\n    </tr>\n    <tr>\n      <th>8834</th>\n      <td>0.967436</td>\n      <td>-0.577015</td>\n      <td>1.053222</td>\n      <td>0.792720</td>\n      <td>0.080479</td>\n      <td>-0.916018</td>\n      <td>0.652576</td>\n      <td>0.967527</td>\n      <td>1.453685</td>\n      <td>-0.022366</td>\n      <td>...</td>\n      <td>-0.012911</td>\n      <td>-0.012911</td>\n      <td>-0.022366</td>\n      <td>-0.012911</td>\n      <td>-0.012911</td>\n      <td>-0.01826</td>\n      <td>-0.012911</td>\n      <td>-0.572988</td>\n      <td>-0.576580</td>\n      <td>0.915552</td>\n    </tr>\n    <tr>\n      <th>6385</th>\n      <td>1.680553</td>\n      <td>-1.248190</td>\n      <td>-0.754394</td>\n      <td>0.792720</td>\n      <td>-1.220573</td>\n      <td>0.797767</td>\n      <td>0.652576</td>\n      <td>0.967527</td>\n      <td>1.311712</td>\n      <td>-0.022366</td>\n      <td>...</td>\n      <td>-0.012911</td>\n      <td>-0.012911</td>\n      <td>-0.022366</td>\n      <td>-0.012911</td>\n      <td>-0.012911</td>\n      <td>-0.01826</td>\n      <td>-0.012911</td>\n      <td>-0.572988</td>\n      <td>-0.576580</td>\n      <td>-1.092237</td>\n    </tr>\n  </tbody>\n</table>\n<p>10 rows × 2250 columns</p>\n</div>"
     },
     "metadata": {},
     "output_type": "display_data"
    },
    {
     "name": "stdout",
     "output_type": "stream",
     "text": [
      "<class 'pandas.core.frame.DataFrame'>\n",
      "Int64Index: 6000 entries, 5537 to 8194\n",
      "Columns: 2250 entries, CustomerId to Gender_Male\n",
      "dtypes: float64(2250)\n",
      "memory usage: 103.0 MB\n"
     ]
    },
    {
     "data": {
      "text/plain": "None"
     },
     "metadata": {},
     "output_type": "display_data"
    },
    {
     "data": {
      "text/plain": "                    count          mean       std       min       50%  \\\nCustomerId         6000.0 -9.061788e-15  1.000083 -1.750860 -0.002715   \nCreditScore        6000.0  2.925068e-16  1.000083 -3.096505  0.011555   \nAge                6000.0  2.581639e-16  1.000083 -1.991184 -0.183568   \nTenure             6000.0  2.723747e-17  1.000083 -1.456283 -0.171138   \nBalance            6000.0  1.207923e-16  1.000083 -1.220573  0.334671   \n...                   ...           ...       ...       ...       ...   \nSurname_Zuyev      6000.0 -1.184238e-18  1.000083 -0.018260 -0.018260   \nSurname_Zuyeva     6000.0  3.552714e-18  1.000083 -0.012911 -0.012911   \nGeography_Germany  6000.0  5.684342e-17  1.000083 -0.572988 -0.572988   \nGeography_Spain    6000.0 -3.907985e-17  1.000083 -0.576580 -0.576580   \nGender_Male        6000.0  1.125026e-17  1.000083 -1.092237  0.915552   \n\n                         max  \nCustomerId          1.730513  \nCreditScore         2.066384  \nAge                 5.049004  \nTenure              1.756578  \nBalance             2.794064  \n...                      ...  \nSurname_Zuyev      54.763126  \nSurname_Zuyeva     77.453212  \nGeography_Germany   1.745237  \nGeography_Spain     1.734363  \nGender_Male         0.915552  \n\n[2250 rows x 6 columns]",
      "text/html": "<div>\n<style scoped>\n    .dataframe tbody tr th:only-of-type {\n        vertical-align: middle;\n    }\n\n    .dataframe tbody tr th {\n        vertical-align: top;\n    }\n\n    .dataframe thead th {\n        text-align: right;\n    }\n</style>\n<table border=\"1\" class=\"dataframe\">\n  <thead>\n    <tr style=\"text-align: right;\">\n      <th></th>\n      <th>count</th>\n      <th>mean</th>\n      <th>std</th>\n      <th>min</th>\n      <th>50%</th>\n      <th>max</th>\n    </tr>\n  </thead>\n  <tbody>\n    <tr>\n      <th>CustomerId</th>\n      <td>6000.0</td>\n      <td>-9.061788e-15</td>\n      <td>1.000083</td>\n      <td>-1.750860</td>\n      <td>-0.002715</td>\n      <td>1.730513</td>\n    </tr>\n    <tr>\n      <th>CreditScore</th>\n      <td>6000.0</td>\n      <td>2.925068e-16</td>\n      <td>1.000083</td>\n      <td>-3.096505</td>\n      <td>0.011555</td>\n      <td>2.066384</td>\n    </tr>\n    <tr>\n      <th>Age</th>\n      <td>6000.0</td>\n      <td>2.581639e-16</td>\n      <td>1.000083</td>\n      <td>-1.991184</td>\n      <td>-0.183568</td>\n      <td>5.049004</td>\n    </tr>\n    <tr>\n      <th>Tenure</th>\n      <td>6000.0</td>\n      <td>2.723747e-17</td>\n      <td>1.000083</td>\n      <td>-1.456283</td>\n      <td>-0.171138</td>\n      <td>1.756578</td>\n    </tr>\n    <tr>\n      <th>Balance</th>\n      <td>6000.0</td>\n      <td>1.207923e-16</td>\n      <td>1.000083</td>\n      <td>-1.220573</td>\n      <td>0.334671</td>\n      <td>2.794064</td>\n    </tr>\n    <tr>\n      <th>...</th>\n      <td>...</td>\n      <td>...</td>\n      <td>...</td>\n      <td>...</td>\n      <td>...</td>\n      <td>...</td>\n    </tr>\n    <tr>\n      <th>Surname_Zuyev</th>\n      <td>6000.0</td>\n      <td>-1.184238e-18</td>\n      <td>1.000083</td>\n      <td>-0.018260</td>\n      <td>-0.018260</td>\n      <td>54.763126</td>\n    </tr>\n    <tr>\n      <th>Surname_Zuyeva</th>\n      <td>6000.0</td>\n      <td>3.552714e-18</td>\n      <td>1.000083</td>\n      <td>-0.012911</td>\n      <td>-0.012911</td>\n      <td>77.453212</td>\n    </tr>\n    <tr>\n      <th>Geography_Germany</th>\n      <td>6000.0</td>\n      <td>5.684342e-17</td>\n      <td>1.000083</td>\n      <td>-0.572988</td>\n      <td>-0.572988</td>\n      <td>1.745237</td>\n    </tr>\n    <tr>\n      <th>Geography_Spain</th>\n      <td>6000.0</td>\n      <td>-3.907985e-17</td>\n      <td>1.000083</td>\n      <td>-0.576580</td>\n      <td>-0.576580</td>\n      <td>1.734363</td>\n    </tr>\n    <tr>\n      <th>Gender_Male</th>\n      <td>6000.0</td>\n      <td>1.125026e-17</td>\n      <td>1.000083</td>\n      <td>-1.092237</td>\n      <td>0.915552</td>\n      <td>0.915552</td>\n    </tr>\n  </tbody>\n</table>\n<p>2250 rows × 6 columns</p>\n</div>"
     },
     "metadata": {},
     "output_type": "display_data"
    },
    {
     "name": "stdout",
     "output_type": "stream",
     "text": [
      "Количество дублированных строк: 0\n"
     ]
    }
   ],
   "source": [
    "scaler = StandardScaler()\n",
    "scaler.fit(features_train)\n",
    "\n",
    "features_train = pd.DataFrame(\n",
    "    scaler.transform(features_train),\n",
    "    columns=features_train.columns,\n",
    "    index=features_train.index)\n",
    "\n",
    "features_test = pd.DataFrame(\n",
    "    scaler.transform(features_test),\n",
    "    columns=features_test.columns,\n",
    "    index=features_test.index)\n",
    "\n",
    "features_valid = pd.DataFrame(\n",
    "    scaler.transform(features_valid),\n",
    "    columns=features_valid.columns,\n",
    "    index=features_valid.index)\n",
    "\n",
    "describe_dataframe(features_train)"
   ],
   "metadata": {
    "collapsed": false
   }
  },
  {
   "cell_type": "markdown",
   "source": [
    "Попробуем обучить модели без учета дисбаланса и просмотрим чему будет равна метрика F1. Так как перед нами стоит задача классификации, то будем использовать 3 модели: Логистическую регрессию, Дерево решений и Случайный лес."
   ],
   "metadata": {
    "collapsed": false
   }
  },
  {
   "cell_type": "markdown",
   "source": [
    "Для построения roc кривой пропишем специальную функцию."
   ],
   "metadata": {
    "collapsed": false
   }
  },
  {
   "cell_type": "code",
   "execution_count": 21,
   "metadata": {},
   "outputs": [],
   "source": [
    "def roc_graph(tv, pv):\n",
    "    fpr, tpr, thresholds = roc_curve(tv, pv)\n",
    "    roc_auc = auc(fpr, tpr)\n",
    "    plt.title('Receiver Operating Characteristic')\n",
    "    plt.plot(fpr, tpr, 'b', label = 'AUC = %0.2f' % roc_auc)\n",
    "    plt.legend(loc = 'lower right')\n",
    "    plt.plot([0, 1], [0, 1],'r--')\n",
    "    plt.xlim([0, 1])\n",
    "    plt.ylim([0, 1])\n",
    "    plt.ylabel('True Positive Rate')\n",
    "    plt.xlabel('False Positive Rate')\n",
    "    plt.grid()\n",
    "    plt.show()"
   ]
  },
  {
   "cell_type": "markdown",
   "metadata": {},
   "source": [
    "Обучим модель логистической регрессии. (LR)"
   ]
  },
  {
   "cell_type": "code",
   "execution_count": 22,
   "metadata": {},
   "outputs": [
    {
     "data": {
      "text/plain": "'F1: 0.26751592356687903'"
     },
     "metadata": {},
     "output_type": "display_data"
    },
    {
     "data": {
      "text/plain": "array([[1456,  137],\n       [ 323,   84]], dtype=int64)"
     },
     "metadata": {},
     "output_type": "display_data"
    },
    {
     "data": {
      "text/plain": "<Figure size 640x480 with 1 Axes>",
      "image/png": "[encoded data removed]"
     },
     "metadata": {},
     "output_type": "display_data"
    }
   ],
   "source": [
    "model = LogisticRegression(random_state=12345, solver='liblinear')\n",
    "model.fit(features_train, target_train)\n",
    "predicted_valid = model.predict(features_valid)\n",
    "display(f\"F1: {f1_score(target_valid, predicted_valid)}\")\n",
    "display(confusion_matrix(target_valid, predicted_valid))\n",
    "\n",
    "probabilities_test = model.predict_proba(features_valid)\n",
    "probabilities_one_test = probabilities_test[:, 1]\n",
    "roc_graph(target_valid, predicted_valid)"
   ]
  },
  {
   "cell_type": "markdown",
   "metadata": {},
   "source": [
    "У модели крайне низкая полнота, поэтому метрика F1 мала, такая модель не соответствует требуемой"
   ]
  },
  {
   "cell_type": "markdown",
   "metadata": {},
   "source": [
    "Обучим модель дерева решений. (DT)"
   ]
  },
  {
   "cell_type": "code",
   "execution_count": 23,
   "metadata": {},
   "outputs": [
    {
     "name": "stdout",
     "output_type": "stream",
     "text": [
      "Метрика F1 наилучшей DT модели на дисбалансированной валидационной выборке: 0.5792682926829269 Максимальная глубина: 6\n"
     ]
    },
    {
     "data": {
      "text/plain": "array([[1456,  137],\n       [ 323,   84]], dtype=int64)"
     },
     "metadata": {},
     "output_type": "display_data"
    },
    {
     "data": {
      "text/plain": "<Figure size 640x480 with 1 Axes>",
      "image/png": "[encoded data removed]"
     },
     "metadata": {},
     "output_type": "display_data"
    }
   ],
   "source": [
    "best_dt_model = None\n",
    "best_result = 0\n",
    "best_depth = 0\n",
    "best_predicted_valid = None\n",
    "for depth in range (1, 16):\n",
    "    dt_model = DecisionTreeClassifier(random_state=12345, max_depth=depth)\n",
    "    dt_model.fit(features_train, target_train)\n",
    "    predictions_valid = dt_model.predict(features_valid)\n",
    "    result = f1_score(target_valid, predictions_valid)\n",
    "    if result > best_result:\n",
    "        best_dt_model = dt_model\n",
    "        best_result = result\n",
    "        best_depth = depth\n",
    "        best_predicted_valid = predictions_valid\n",
    "\n",
    "print(\"Метрика F1 наилучшей DT модели на дисбалансированной валидационной выборке:\", best_result, \"Максимальная глубина:\", best_depth)\n",
    "display(confusion_matrix(target_valid, predicted_valid))\n",
    "\n",
    "if best_dt_model:\n",
    "    probabilities_test = best_dt_model.predict_proba(features_valid)\n",
    "    probabilities_one_test = probabilities_test[:, 1]\n",
    "    roc_graph(target_valid, best_predicted_valid)"
   ]
  },
  {
   "cell_type": "markdown",
   "metadata": {},
   "source": [
    "Сразу же получаем результат, близкий к требуемому. Неплохо, но все равно мало."
   ]
  },
  {
   "cell_type": "markdown",
   "metadata": {},
   "source": [
    "Обучим модель случайного леса. (RF)"
   ]
  },
  {
   "cell_type": "code",
   "execution_count": 24,
   "metadata": {},
   "outputs": [
    {
     "name": "stderr",
     "output_type": "stream",
     "text": [
      "100%|██████████| 14/14 [02:22<00:00, 10.15s/it]"
     ]
    },
    {
     "name": "stdout",
     "output_type": "stream",
     "text": [
      "Метрика F1 наилучшей модели на дисбалансированной валидационной выборке: 0.04796163069544364 Количество деревьев: 20 Максимальная глубина: 13\n"
     ]
    },
    {
     "name": "stderr",
     "output_type": "stream",
     "text": [
      "\n"
     ]
    },
    {
     "data": {
      "text/plain": "array([[1456,  137],\n       [ 323,   84]], dtype=int64)"
     },
     "metadata": {},
     "output_type": "display_data"
    },
    {
     "data": {
      "text/plain": "<Figure size 640x480 with 1 Axes>",
      "image/png": "[encoded data removed]"
     },
     "metadata": {},
     "output_type": "display_data"
    }
   ],
   "source": [
    "best_rf_model = None\n",
    "best_result = 0\n",
    "best_est = 0\n",
    "best_depth = 0\n",
    "best_predicted_valid = None\n",
    "for n_estimators in tqdm(range(10, 141, 10)):\n",
    "    for depth in range (1, 16):\n",
    "        rf_model = RandomForestClassifier(random_state=12345, max_depth=depth, n_estimators=n_estimators)\n",
    "        rf_model.fit(features_train, target_train)\n",
    "        predictions_valid = rf_model.predict(features_valid)\n",
    "        result = f1_score(target_valid, predictions_valid)\n",
    "        if result > best_result:\n",
    "            best_rf_model = rf_model\n",
    "            best_result = result\n",
    "            best_est = n_estimators\n",
    "            best_depth = depth\n",
    "            best_predicted_valid = predictions_valid\n",
    "\n",
    "print(\"Метрика F1 наилучшей модели на дисбалансированной валидационной выборке:\", best_result, \"Количество деревьев:\", best_est, \"Максимальная глубина:\", best_depth)\n",
    "display(confusion_matrix(target_valid, predicted_valid))\n",
    "if best_rf_model:\n",
    "    probabilities_test = best_rf_model.predict_proba(features_valid)\n",
    "    probabilities_one_test = probabilities_test[:, 1]\n",
    "    roc_graph(target_valid, best_predicted_valid)"
   ]
  },
  {
   "cell_type": "markdown",
   "metadata": {},
   "source": [
    "Метрика F1 получилась мовсем плохой, т.е неточные модели повлияли на хорошие."
   ]
  },
  {
   "cell_type": "markdown",
   "metadata": {},
   "source": [
    "Выводы: Дисбаланс и мультиколлинеарность - это проблема для линейных моделей, по типу логистической (LR) и линейной регрессий. Скорее всего в данном датасете более сложные, нелинейные связи между признаками и таргетом. \"Деревянные\" модели (RF, DT) устойчивы к мультиколлинеарности, данные модели гораздо лучше показывают себя при существующем дисбалансе классов. На других данных LR могла оказаться лучше, например потому что RF не может экстраполировать."
   ]
  },
  {
   "cell_type": "markdown",
   "metadata": {},
   "source": [
    "## Борьба с дисбалансом"
   ]
  },
  {
   "cell_type": "markdown",
   "metadata": {},
   "source": [
    "Для борьбы с дисбалансом есть несколько способов: взвешивание класса, увеличение выборки, уменьшение выборки и изменение порога принятия решения."
   ]
  },
  {
   "cell_type": "markdown",
   "metadata": {},
   "source": [
    "Определим функции для увеличения и уменьшения выборки."
   ]
  },
  {
   "cell_type": "code",
   "execution_count": 25,
   "metadata": {},
   "outputs": [],
   "source": [
    "def upsample(features, target, repeat):\n",
    "    features_zeros = features[target == 0]\n",
    "    features_ones = features[target == 1]\n",
    "    target_zeros = target[target == 0]\n",
    "    target_ones = target[target == 1]\n",
    "\n",
    "    features_upsampled = pd.concat([features_zeros] + [features_ones] * repeat)\n",
    "    target_upsampled = pd.concat([target_zeros] + [target_ones] * repeat)\n",
    "\n",
    "    features_upsampled, target_upsampled = shuffle(\n",
    "        features_upsampled, target_upsampled, random_state=12345)\n",
    "\n",
    "    return features_upsampled, target_upsampled"
   ]
  },
  {
   "cell_type": "code",
   "execution_count": 26,
   "metadata": {},
   "outputs": [],
   "source": [
    "def downsample(features, target, fraction):\n",
    "    features_zeros = features[target == 0]\n",
    "    features_ones = features[target == 1]\n",
    "    target_zeros = target[target == 0]\n",
    "    target_ones = target[target == 1]\n",
    "\n",
    "    features_downsampled = pd.concat(\n",
    "        [features_zeros.sample(frac=fraction, random_state=12345)] + [features_ones])\n",
    "    target_downsampled = pd.concat(\n",
    "        [target_zeros.sample(frac=fraction, random_state=12345)] + [target_ones])\n",
    "\n",
    "    features_downsampled, target_downsampled = shuffle(\n",
    "        features_downsampled, target_downsampled, random_state=12345)\n",
    "\n",
    "    return features_downsampled, target_downsampled"
   ]
  },
  {
   "cell_type": "markdown",
   "metadata": {},
   "source": [
    "Найдем новые выборки исходя из того, что баланс классов = 0.8, т.е. нули в таргете относятся к единицам как 4/1 => мы либо уменьшаем количество нулей в 4 раза, либо увеличиваем количество единиц в 4 раза."
   ]
  },
  {
   "cell_type": "code",
   "execution_count": 27,
   "metadata": {},
   "outputs": [],
   "source": [
    "features = df.drop(['Exited'], axis=1)\n",
    "target = df['Exited']\n",
    "\n",
    "features = pd.get_dummies(features, drop_first=True)\n",
    "\n",
    "features_train, features_valid, target_train, target_valid = train_test_split(\n",
    "    features, target, test_size=.2, random_state=12345, stratify=target)\n",
    "features_train, features_test, target_train, target_test = train_test_split(\n",
    "    features_train, target_train, test_size=.25, random_state=12345, stratify=target_train)"
   ]
  },
  {
   "cell_type": "code",
   "execution_count": 28,
   "metadata": {},
   "outputs": [
    {
     "data": {
      "text/plain": "(2417, 2944)"
     },
     "metadata": {},
     "output_type": "display_data"
    },
    {
     "data": {
      "text/plain": "(2417,)"
     },
     "metadata": {},
     "output_type": "display_data"
    }
   ],
   "source": [
    "features_downsampled, target_downsampled = downsample(pd.DataFrame(features_train), target_train, 0.25)\n",
    "display(features_downsampled.shape, target_downsampled.shape)"
   ]
  },
  {
   "cell_type": "code",
   "execution_count": 29,
   "metadata": {},
   "outputs": [
    {
     "data": {
      "text/plain": "(9669, 2944)"
     },
     "metadata": {},
     "output_type": "display_data"
    },
    {
     "data": {
      "text/plain": "(9669,)"
     },
     "metadata": {},
     "output_type": "display_data"
    }
   ],
   "source": [
    "features_upsampled, target_upsampled = upsample(pd.DataFrame(features_train), target_train, 4)\n",
    "display(features_upsampled.shape, target_upsampled.shape)"
   ]
  },
  {
   "cell_type": "markdown",
   "metadata": {},
   "source": [
    "### Изучение моделей логистической регрессии при учёте дисбаланса"
   ]
  },
  {
   "cell_type": "markdown",
   "metadata": {},
   "source": [
    "Протестируем модель логистической регрессии на уменьшенной выборке:"
   ]
  },
  {
   "cell_type": "code",
   "execution_count": 30,
   "metadata": {},
   "outputs": [
    {
     "data": {
      "text/plain": "'F1: 0.36690186016677356'"
     },
     "metadata": {},
     "output_type": "display_data"
    },
    {
     "data": {
      "text/plain": "array([[727, 866],\n       [121, 286]], dtype=int64)"
     },
     "metadata": {},
     "output_type": "display_data"
    },
    {
     "data": {
      "text/plain": "<Figure size 640x480 with 1 Axes>",
      "image/png": "[encoded data removed]"
     },
     "metadata": {},
     "output_type": "display_data"
    }
   ],
   "source": [
    "model = LogisticRegression(random_state=12345, solver='liblinear')\n",
    "model.fit(features_downsampled, target_downsampled)\n",
    "predicted_valid = model.predict(features_valid)\n",
    "display(f\"F1: {f1_score(target_valid, predicted_valid)}\")\n",
    "display(confusion_matrix(target_valid, predicted_valid))\n",
    "\n",
    "probabilities_test = model.predict_proba(features_valid)\n",
    "probabilities_one_test = probabilities_test[:, 1]\n",
    "roc_graph(target_valid, predicted_valid)"
   ]
  },
  {
   "cell_type": "markdown",
   "metadata": {},
   "source": [
    "Протестируем модель логистической регрессии на увеличенной выборке:"
   ]
  },
  {
   "cell_type": "code",
   "execution_count": 31,
   "metadata": {},
   "outputs": [
    {
     "data": {
      "text/plain": "'F1: 0.36525047558655677'"
     },
     "metadata": {},
     "output_type": "display_data"
    },
    {
     "data": {
      "text/plain": "array([[711, 882],\n       [119, 288]], dtype=int64)"
     },
     "metadata": {},
     "output_type": "display_data"
    },
    {
     "data": {
      "text/plain": "<Figure size 640x480 with 1 Axes>",
      "image/png": "[encoded data removed]"
     },
     "metadata": {},
     "output_type": "display_data"
    }
   ],
   "source": [
    "model = LogisticRegression(random_state=12345, solver='liblinear')\n",
    "model.fit(features_upsampled, target_upsampled)\n",
    "predicted_valid = model.predict(features_valid)\n",
    "display(f\"F1: {f1_score(target_valid, predicted_valid)}\")\n",
    "display(confusion_matrix(target_valid, predicted_valid))\n",
    "\n",
    "probabilities_test = model.predict_proba(features_valid)\n",
    "probabilities_one_test = probabilities_test[:, 1]\n",
    "roc_graph(target_valid, predicted_valid)"
   ]
  },
  {
   "cell_type": "markdown",
   "metadata": {},
   "source": [
    "Обе модели показывают одинаково низкий результат: около 0.37."
   ]
  },
  {
   "cell_type": "markdown",
   "metadata": {},
   "source": [
    "Применим встроенное взвешивание классов."
   ]
  },
  {
   "cell_type": "code",
   "execution_count": 32,
   "metadata": {},
   "outputs": [
    {
     "data": {
      "text/plain": "'F1: 0.5046570702794242'"
     },
     "metadata": {},
     "output_type": "display_data"
    },
    {
     "data": {
      "text/plain": "array([[1117,  476],\n       [ 109,  298]], dtype=int64)"
     },
     "metadata": {},
     "output_type": "display_data"
    },
    {
     "data": {
      "text/plain": "<Figure size 640x480 with 1 Axes>",
      "image/png": "[encoded data removed]"
     },
     "metadata": {},
     "output_type": "display_data"
    }
   ],
   "source": [
    "model = LogisticRegression(random_state=12345, solver='liblinear', class_weight='balanced')\n",
    "model.fit(features_train, target_train)\n",
    "predicted_valid = model.predict(features_valid)\n",
    "display(f\"F1: {f1_score(target_valid, predicted_valid)}\")\n",
    "display(confusion_matrix(target_valid, predicted_valid))\n",
    "\n",
    "probabilities_test = model.predict_proba(features_valid)\n",
    "probabilities_one_test = probabilities_test[:, 1]\n",
    "roc_graph(target_valid, predicted_valid)"
   ]
  },
  {
   "cell_type": "markdown",
   "metadata": {},
   "source": [
    "Качество модели заметно повысилось, но качество не дотягивает до требуемого.\n"
   ]
  },
  {
   "cell_type": "markdown",
   "metadata": {},
   "source": [
    "Протестируем изменения порога принятия решения."
   ]
  },
  {
   "cell_type": "code",
   "execution_count": 33,
   "metadata": {},
   "outputs": [
    {
     "data": {
      "text/plain": "<Figure size 640x480 with 1 Axes>",
      "image/png": "[encoded data removed]"
     },
     "metadata": {},
     "output_type": "display_data"
    }
   ],
   "source": [
    "model = LogisticRegression(random_state=12345, solver='liblinear')\n",
    "model.fit(features_train, target_train)\n",
    "probabilities_valid = model.predict_proba(features_valid)\n",
    "probabilities_one_valid = probabilities_valid[:, 1]\n",
    "threshold_target_results = []\n",
    "for threshold in np.arange(0, 0.4, 0.04):\n",
    "    predicted_valid = probabilities_one_valid > threshold\n",
    "    score = f1_score(target_valid, predicted_valid)\n",
    "    threshold_target_results.append(score)\n",
    "plt.plot(threshold_target_results)\n",
    "plt.ylabel('F1 score')\n",
    "plt.xlabel('steps')\n",
    "plt.show()"
   ]
  },
  {
   "cell_type": "markdown",
   "metadata": {},
   "source": [
    "Изменение порога также не даёт видимого эффекта. В лучшем случае качество модели сопоставимо с моделью, обученной на уменьшенном/увеличенном датасете."
   ]
  },
  {
   "cell_type": "markdown",
   "metadata": {},
   "source": [
    "### Изучение моделей случайного леса при учёте дисбаланса"
   ]
  },
  {
   "cell_type": "markdown",
   "metadata": {},
   "source": []
  },
  {
   "cell_type": "code",
   "execution_count": 34,
   "metadata": {},
   "outputs": [
    {
     "name": "stderr",
     "output_type": "stream",
     "text": [
      "100%|██████████| 14/14 [03:00<00:00, 12.87s/it]"
     ]
    },
    {
     "name": "stdout",
     "output_type": "stream",
     "text": [
      "Метрика F1 наилучшей модели на сбалансированной валидационной выборке: 0.5991649269311066 Количество деревьев: 50 Максимальная глубина: 14\n"
     ]
    },
    {
     "name": "stderr",
     "output_type": "stream",
     "text": [
      "\n"
     ]
    },
    {
     "data": {
      "text/plain": "<Figure size 640x480 with 1 Axes>",
      "image/png": "[encoded data removed]"
     },
     "metadata": {},
     "output_type": "display_data"
    }
   ],
   "source": [
    "best_model = None\n",
    "best_result = 0\n",
    "best_est = 0\n",
    "best_depth = 0\n",
    "best_predicted_valid = None\n",
    "for n_estimators in tqdm(range(10, 141, 10)):\n",
    "    for depth in range (1, 16):\n",
    "        forest_model = RandomForestClassifier(random_state=12345, max_depth=depth, n_estimators=n_estimators, class_weight='balanced')\n",
    "        forest_model.fit(features_train, target_train)\n",
    "        predictions_valid = forest_model.predict(features_valid)\n",
    "        result = f1_score(target_valid, predictions_valid)\n",
    "        if result > best_result:\n",
    "            best_fm_weighted = forest_model\n",
    "            best_result = result\n",
    "            best_est = n_estimators\n",
    "            best_depth = depth\n",
    "            best_predicted_valid = predictions_valid\n",
    "\n",
    "print(\"Метрика F1 наилучшей модели на сбалансированной валидационной выборке:\", best_result, \"Количество деревьев:\", best_est, \"Максимальная глубина:\", best_depth)\n",
    "\n",
    "probabilities_test = best_fm_weighted.predict_proba(features_valid)\n",
    "probabilities_one_test = probabilities_test[:, 1]\n",
    "roc_graph(target_valid, best_predicted_valid)"
   ]
  },
  {
   "cell_type": "code",
   "execution_count": 35,
   "metadata": {},
   "outputs": [
    {
     "name": "stderr",
     "output_type": "stream",
     "text": [
      "100%|██████████| 14/14 [01:27<00:00,  6.27s/it]\n"
     ]
    },
    {
     "name": "stdout",
     "output_type": "stream",
     "text": [
      "Метрика F1 наилучшей модели на уменьшенной валидационной выборке: 0.5754884547069272 Количество деревьев: 120 Максимальная глубина: 14\n"
     ]
    },
    {
     "data": {
      "text/plain": "<Figure size 640x480 with 1 Axes>",
      "image/png": "[encoded data removed]"
     },
     "metadata": {},
     "output_type": "display_data"
    }
   ],
   "source": [
    "best_model = None\n",
    "best_result = 0\n",
    "best_est = 0\n",
    "best_depth = 0\n",
    "best_predicted_valid = None\n",
    "for n_estimators in tqdm(range(10, 141, 10)):\n",
    "    for depth in range (1, 16):\n",
    "        forest_model = RandomForestClassifier(random_state=12345, max_depth=depth, n_estimators=n_estimators)\n",
    "        forest_model.fit(features_downsampled, target_downsampled)\n",
    "        predictions_valid = forest_model.predict(features_valid)\n",
    "        result = f1_score(target_valid, predictions_valid)\n",
    "        if result > best_result:\n",
    "            best_fm_downsampled = forest_model\n",
    "            best_result = result\n",
    "            best_est = n_estimators\n",
    "            best_depth = depth\n",
    "            best_predicted_valid = predictions_valid\n",
    "\n",
    "print(\"Метрика F1 наилучшей модели на уменьшенной валидационной выборке:\", best_result, \"Количество деревьев:\", best_est, \"Максимальная глубина:\", best_depth)\n",
    "\n",
    "probabilities_test = best_fm_downsampled.predict_proba(features_valid)\n",
    "probabilities_one_test = probabilities_test[:, 1]\n",
    "roc_graph(target_valid, best_predicted_valid)"
   ]
  },
  {
   "cell_type": "code",
   "execution_count": 36,
   "metadata": {},
   "outputs": [
    {
     "name": "stderr",
     "output_type": "stream",
     "text": [
      "100%|██████████| 14/14 [04:21<00:00, 18.66s/it]\n"
     ]
    },
    {
     "name": "stdout",
     "output_type": "stream",
     "text": [
      "Метрика F1 наилучшей модели на увеличенной валидационной выборке: 0.5746061167747916 Количество деревьев: 80 Максимальная глубина: 14\n"
     ]
    },
    {
     "data": {
      "text/plain": "<Figure size 640x480 with 1 Axes>",
      "image/png": "[encoded data removed]"
     },
     "metadata": {},
     "output_type": "display_data"
    }
   ],
   "source": [
    "best_model = None\n",
    "best_result = 0\n",
    "best_est = 0\n",
    "best_depth = 0\n",
    "best_predicted_valid = None\n",
    "for n_estimators in tqdm(range(10, 141, 10)):\n",
    "    for depth in range (1, 16):\n",
    "        forest_model = RandomForestClassifier(random_state=12345, max_depth=depth, n_estimators=n_estimators)\n",
    "        forest_model.fit(features_upsampled, target_upsampled)\n",
    "        predictions_valid = forest_model.predict(features_valid)\n",
    "        result = f1_score(target_valid, predictions_valid)\n",
    "        if result > best_result:\n",
    "            best_fm_upsampled = forest_model\n",
    "            best_result = result\n",
    "            best_est = n_estimators\n",
    "            best_depth = depth\n",
    "            best_predicted_valid = predictions_valid\n",
    "\n",
    "print(\"Метрика F1 наилучшей модели на увеличенной валидационной выборке:\", best_result, \"Количество деревьев:\", best_est, \"Максимальная глубина:\", best_depth)\n",
    "\n",
    "probabilities_test = best_fm_upsampled.predict_proba(features_valid)\n",
    "probabilities_one_test = probabilities_test[:, 1]\n",
    "roc_graph(target_valid, best_predicted_valid)"
   ]
  },
  {
   "cell_type": "markdown",
   "metadata": {},
   "source": [
    "Выводы: Наилучшим образом себя показали модели случайного леса, все три получившиеся метрики F1 близки к требуемым. Выводы исследования подтвердились, встроенная функция взвешивания классов позволяет получить наилучшую модель, точность метрики F1 которой соответствует требованиям."
   ]
  },
  {
   "cell_type": "markdown",
   "metadata": {},
   "source": [
    "## Тестирование модели"
   ]
  },
  {
   "cell_type": "markdown",
   "metadata": {},
   "source": [
    "Протестируем модель на тестовой выборке"
   ]
  },
  {
   "cell_type": "code",
   "execution_count": 37,
   "metadata": {},
   "outputs": [
    {
     "data": {
      "text/plain": "0.5970772442588727"
     },
     "metadata": {},
     "output_type": "display_data"
    }
   ],
   "source": [
    "predictions_test = best_fm_weighted.predict(features_test)\n",
    "result = f1_score(target_test, predictions_test)\n",
    "display(result)"
   ]
  },
  {
   "cell_type": "markdown",
   "metadata": {},
   "source": [
    "Задача решена."
   ]
  },
  {
   "cell_type": "markdown",
   "metadata": {},
   "source": [
    "Теперь попробуем дообучить её с использованием валидационных данных (они нам больше не понадобятся). После чего заново определим наилучшие гиперпараметры модели, это может повысить значение метрики F1."
   ]
  },
  {
   "cell_type": "code",
   "execution_count": 38,
   "metadata": {},
   "outputs": [
    {
     "name": "stderr",
     "output_type": "stream",
     "text": [
      "100%|██████████| 14/14 [03:51<00:00, 16.54s/it]"
     ]
    },
    {
     "name": "stdout",
     "output_type": "stream",
     "text": [
      "Метрика F1 наилучшей модели на тестовой выборке: 0.602510460251046 Количество деревьев: 140 Максимальная глубина: 12\n"
     ]
    },
    {
     "name": "stderr",
     "output_type": "stream",
     "text": [
      "\n"
     ]
    }
   ],
   "source": [
    "best_forest_model = None\n",
    "best_result = 0\n",
    "best_est = 0\n",
    "best_depth = 0\n",
    "best_predicted_valid = None\n",
    "for n_estimators in tqdm(range(10, 141, 10)):\n",
    "    for depth in range (1, 16):\n",
    "        forest_model = RandomForestClassifier(random_state=12345, max_depth=depth, n_estimators=n_estimators, class_weight='balanced')\n",
    "        forest_model.fit(pd.concat([features_train, features_valid]), pd.concat([target_train, target_valid]))\n",
    "        predictions_test = forest_model.predict(features_test)\n",
    "        result = f1_score(target_test, predictions_test)\n",
    "        if result > best_result:\n",
    "            best_forest_model = forest_model\n",
    "            best_result = result\n",
    "            best_est = n_estimators\n",
    "            best_depth = depth\n",
    "            best_predicted_valid = predictions_test\n",
    "\n",
    "print(\"Метрика F1 наилучшей модели на тестовой выборке:\", best_result, \"Количество деревьев:\", best_est, \"Максимальная глубина:\", best_depth)"
   ]
  },
  {
   "cell_type": "markdown",
   "metadata": {},
   "source": [
    "Дообучив модель, была получена метрика f1 = 0.6."
   ]
  },
  {
   "cell_type": "markdown",
   "metadata": {},
   "source": [
    "Далее исследуем метрику AUC-ROC"
   ]
  },
  {
   "cell_type": "code",
   "execution_count": 39,
   "metadata": {},
   "outputs": [
    {
     "data": {
      "text/plain": "<Figure size 640x480 with 1 Axes>",
      "image/png": "[encoded data removed]"
     },
     "metadata": {},
     "output_type": "display_data"
    }
   ],
   "source": [
    "probabilities_test = best_forest_model.predict_proba(features_test)\n",
    "probabilities_one_test = probabilities_test[:, 1]\n",
    "roc_graph(target_test, best_predicted_valid)"
   ]
  },
  {
   "cell_type": "markdown",
   "metadata": {},
   "source": [
    "Выводы: В данной работе необходимо было построить модель для задачи классификации, которая спрогнозирует, уйдёт клиент из банка в ближайшее время или нет. Для решения задачи необходимо построить модель с максимально большим значением метрики F1. Чтобы сдать проект успешно, нужно довести метрику до 0.59. Была проведена работа по изучению и разделению данных на выборки для обучения и тестирования моделей, перед этим было проведено кодирование категориальных значений, а также исключены пропуски в данных. Был исследован и устранен дисбаланс данных, далее для каждой модели был проведён подбор оптимальных гиперпараметров, после чего была выявлена оптимальная модель с наибольшим значением метрики F1 = 0.6, что выше требуемая 0.59. Данная модель была проверена на тестовых данных, а также была оценена AUC-ROC метрика, она равна 0.77, что является хорошим показателем при метрике F1=0.6, из чего следует, что модель получилась точная. Две лучших набора гиперпараметров: 1) F1 = 0.605 Количество деревьев: 110 Максимальная глубина: 15 2) F1 = 0.6 Количество деревьев: 140 Максимальная глубина: 11. Предпочтительнее выбрать более легковесную модель, она будет быстрее работать."
   ]
  },
  {
   "cell_type": "markdown",
   "metadata": {},
   "source": [
    "## Чек-лист готовности проекта"
   ]
  },
  {
   "cell_type": "markdown",
   "metadata": {},
   "source": [
    "Поставьте 'x' в выполненных пунктах. Далее нажмите Shift+Enter."
   ]
  },
  {
   "cell_type": "markdown",
   "metadata": {},
   "source": [
    "- [x]  Jupyter Notebook открыт\n",
    "- [x]  Весь код выполняется без ошибок\n",
    "- [x]  Ячейки с кодом расположены в порядке исполнения\n",
    "- [x]  Выполнен шаг 1: данные подготовлены\n",
    "- [x]  Выполнен шаг 2: задача исследована\n",
    "    - [x]  Исследован баланс классов\n",
    "    - [x]  Изучены модели без учёта дисбаланса\n",
    "    - [x]  Написаны выводы по результатам исследования\n",
    "- [x]  Выполнен шаг 3: учтён дисбаланс\n",
    "    - [x]  Применено несколько способов борьбы с дисбалансом\n",
    "    - [x]  Написаны выводы по результатам исследования\n",
    "- [x]  Выполнен шаг 4: проведено тестирование\n",
    "- [x]  Удалось достичь *F1*-меры не менее 0.59\n",
    "- [x]  Исследована метрика *AUC-ROC*"
   ]
  }
 ],
 "metadata": {
  "ExecuteTimeLog": [
   {
    "duration": 1628,
    "start_time": "2023-03-22T17:29:53.158Z"
   },
   {
    "duration": 391,
    "start_time": "2023-03-22T17:29:54.788Z"
   },
   {
    "duration": 5,
    "start_time": "2023-03-22T17:29:55.181Z"
   },
   {
    "duration": 72,
    "start_time": "2023-03-22T17:29:55.187Z"
   },
   {
    "duration": 121,
    "start_time": "2023-03-22T17:29:55.262Z"
   },
   {
    "duration": 8014,
    "start_time": "2023-03-22T17:29:55.385Z"
   },
   {
    "duration": 15,
    "start_time": "2023-03-22T17:30:03.401Z"
   },
   {
    "duration": 70,
    "start_time": "2023-03-22T17:30:03.418Z"
   },
   {
    "duration": 61,
    "start_time": "2023-03-22T17:30:03.489Z"
   },
   {
    "duration": 5,
    "start_time": "2023-03-22T17:30:03.552Z"
   },
   {
    "duration": 401,
    "start_time": "2023-03-22T17:30:03.560Z"
   },
   {
    "duration": 1098,
    "start_time": "2023-03-22T17:30:03.963Z"
   },
   {
    "duration": 7233,
    "start_time": "2023-03-22T17:30:05.063Z"
   },
   {
    "duration": 4,
    "start_time": "2023-03-22T17:30:12.298Z"
   },
   {
    "duration": 11,
    "start_time": "2023-03-22T17:30:12.304Z"
   },
   {
    "duration": 64,
    "start_time": "2023-03-22T17:30:12.317Z"
   },
   {
    "duration": 97,
    "start_time": "2023-03-22T17:30:12.382Z"
   },
   {
    "duration": 273,
    "start_time": "2023-03-22T17:30:12.480Z"
   },
   {
    "duration": 790,
    "start_time": "2023-03-22T17:30:12.755Z"
   },
   {
    "duration": 520,
    "start_time": "2023-03-22T17:30:13.547Z"
   },
   {
    "duration": 850,
    "start_time": "2023-03-22T17:30:14.068Z"
   },
   {
    "duration": 146801,
    "start_time": "2023-03-22T17:30:14.920Z"
   },
   {
    "duration": 76231,
    "start_time": "2023-03-22T17:32:41.723Z"
   },
   {
    "duration": 216618,
    "start_time": "2023-03-22T17:33:57.957Z"
   },
   {
    "duration": 86,
    "start_time": "2023-03-22T17:37:34.577Z"
   },
   {
    "duration": 194820,
    "start_time": "2023-03-22T17:37:34.664Z"
   },
   {
    "duration": 87,
    "start_time": "2023-03-22T17:40:49.486Z"
   },
   {
    "duration": 131,
    "start_time": "2023-03-22T17:40:49.575Z"
   },
   {
    "duration": 116,
    "start_time": "2023-03-22T17:40:49.708Z"
   },
   {
    "duration": 42,
    "start_time": "2023-03-24T10:52:06.955Z"
   },
   {
    "duration": 5,
    "start_time": "2023-03-24T10:52:12.108Z"
   },
   {
    "duration": 1525,
    "start_time": "2023-03-24T10:52:17.310Z"
   },
   {
    "duration": 3,
    "start_time": "2023-03-24T10:52:18.837Z"
   },
   {
    "duration": 173,
    "start_time": "2023-03-24T10:52:18.841Z"
   },
   {
    "duration": 4,
    "start_time": "2023-03-24T10:52:19.016Z"
   },
   {
    "duration": 28,
    "start_time": "2023-03-24T10:52:19.023Z"
   },
   {
    "duration": 78,
    "start_time": "2023-03-24T10:52:19.053Z"
   },
   {
    "duration": 4,
    "start_time": "2023-03-24T10:52:19.133Z"
   },
   {
    "duration": 33,
    "start_time": "2023-03-24T10:52:19.139Z"
   },
   {
    "duration": 17,
    "start_time": "2023-03-24T10:52:19.174Z"
   },
   {
    "duration": 78,
    "start_time": "2023-03-24T10:52:19.193Z"
   },
   {
    "duration": 0,
    "start_time": "2023-03-24T10:52:19.274Z"
   },
   {
    "duration": 0,
    "start_time": "2023-03-24T10:52:19.275Z"
   },
   {
    "duration": 0,
    "start_time": "2023-03-24T10:52:19.276Z"
   },
   {
    "duration": 0,
    "start_time": "2023-03-24T10:52:19.278Z"
   },
   {
    "duration": 0,
    "start_time": "2023-03-24T10:52:19.279Z"
   },
   {
    "duration": 0,
    "start_time": "2023-03-24T10:52:19.281Z"
   },
   {
    "duration": 0,
    "start_time": "2023-03-24T10:52:19.283Z"
   },
   {
    "duration": 0,
    "start_time": "2023-03-24T10:52:19.284Z"
   },
   {
    "duration": 0,
    "start_time": "2023-03-24T10:52:19.285Z"
   },
   {
    "duration": 0,
    "start_time": "2023-03-24T10:52:19.287Z"
   },
   {
    "duration": 0,
    "start_time": "2023-03-24T10:52:19.288Z"
   },
   {
    "duration": 0,
    "start_time": "2023-03-24T10:52:19.290Z"
   },
   {
    "duration": 0,
    "start_time": "2023-03-24T10:52:19.291Z"
   },
   {
    "duration": 0,
    "start_time": "2023-03-24T10:52:19.292Z"
   },
   {
    "duration": 0,
    "start_time": "2023-03-24T10:52:19.293Z"
   },
   {
    "duration": 0,
    "start_time": "2023-03-24T10:52:19.295Z"
   },
   {
    "duration": 0,
    "start_time": "2023-03-24T10:52:19.296Z"
   },
   {
    "duration": 0,
    "start_time": "2023-03-24T10:52:19.297Z"
   },
   {
    "duration": 1,
    "start_time": "2023-03-24T10:52:19.298Z"
   },
   {
    "duration": 0,
    "start_time": "2023-03-24T10:52:19.300Z"
   },
   {
    "duration": 0,
    "start_time": "2023-03-24T10:52:19.302Z"
   },
   {
    "duration": 1,
    "start_time": "2023-03-24T10:52:19.310Z"
   },
   {
    "duration": 4,
    "start_time": "2023-03-24T10:52:36.708Z"
   },
   {
    "duration": 5,
    "start_time": "2023-03-24T10:52:36.714Z"
   },
   {
    "duration": 42,
    "start_time": "2023-03-24T10:52:36.721Z"
   },
   {
    "duration": 4,
    "start_time": "2023-03-24T10:52:36.765Z"
   },
   {
    "duration": 25,
    "start_time": "2023-03-24T10:52:36.772Z"
   },
   {
    "duration": 91,
    "start_time": "2023-03-24T10:52:36.799Z"
   },
   {
    "duration": 3,
    "start_time": "2023-03-24T10:52:36.892Z"
   },
   {
    "duration": 7,
    "start_time": "2023-03-24T10:52:36.896Z"
   },
   {
    "duration": 15,
    "start_time": "2023-03-24T10:52:36.904Z"
   },
   {
    "duration": 10,
    "start_time": "2023-03-24T10:52:36.921Z"
   },
   {
    "duration": 0,
    "start_time": "2023-03-24T10:52:36.932Z"
   },
   {
    "duration": 6,
    "start_time": "2023-03-24T10:53:10.519Z"
   },
   {
    "duration": 5,
    "start_time": "2023-03-24T10:53:17.640Z"
   },
   {
    "duration": 7,
    "start_time": "2023-03-24T10:53:17.648Z"
   },
   {
    "duration": 51,
    "start_time": "2023-03-24T10:53:17.658Z"
   },
   {
    "duration": 5,
    "start_time": "2023-03-24T10:53:17.712Z"
   },
   {
    "duration": 29,
    "start_time": "2023-03-24T10:53:17.719Z"
   },
   {
    "duration": 87,
    "start_time": "2023-03-24T10:53:17.751Z"
   },
   {
    "duration": 3,
    "start_time": "2023-03-24T10:53:17.840Z"
   },
   {
    "duration": 24,
    "start_time": "2023-03-24T10:53:17.845Z"
   },
   {
    "duration": 28,
    "start_time": "2023-03-24T10:53:17.871Z"
   },
   {
    "duration": 294,
    "start_time": "2023-03-24T10:53:17.903Z"
   },
   {
    "duration": 0,
    "start_time": "2023-03-24T10:53:18.200Z"
   },
   {
    "duration": 242,
    "start_time": "2023-03-24T10:54:32.217Z"
   },
   {
    "duration": 340,
    "start_time": "2023-03-24T10:56:17.779Z"
   },
   {
    "duration": 218,
    "start_time": "2023-03-24T10:59:40.953Z"
   },
   {
    "duration": 275,
    "start_time": "2023-03-24T11:01:17.774Z"
   },
   {
    "duration": 97,
    "start_time": "2023-03-24T11:06:01.520Z"
   },
   {
    "duration": 71,
    "start_time": "2023-03-24T11:07:29.280Z"
   },
   {
    "duration": 3,
    "start_time": "2023-03-24T11:07:39.438Z"
   },
   {
    "duration": 12,
    "start_time": "2023-03-24T11:07:39.444Z"
   },
   {
    "duration": 40,
    "start_time": "2023-03-24T11:07:39.457Z"
   },
   {
    "duration": 2,
    "start_time": "2023-03-24T11:07:39.499Z"
   },
   {
    "duration": 20,
    "start_time": "2023-03-24T11:07:39.503Z"
   },
   {
    "duration": 56,
    "start_time": "2023-03-24T11:07:39.525Z"
   },
   {
    "duration": 4,
    "start_time": "2023-03-24T11:07:39.582Z"
   },
   {
    "duration": 6,
    "start_time": "2023-03-24T11:07:39.588Z"
   },
   {
    "duration": 18,
    "start_time": "2023-03-24T11:07:39.595Z"
   },
   {
    "duration": 132,
    "start_time": "2023-03-24T11:07:39.615Z"
   },
   {
    "duration": 5,
    "start_time": "2023-03-24T11:07:39.749Z"
   },
   {
    "duration": 137,
    "start_time": "2023-03-24T11:07:41.364Z"
   },
   {
    "duration": 4,
    "start_time": "2023-03-24T11:08:54.991Z"
   },
   {
    "duration": 7,
    "start_time": "2023-03-24T11:08:54.997Z"
   },
   {
    "duration": 42,
    "start_time": "2023-03-24T11:08:55.005Z"
   },
   {
    "duration": 4,
    "start_time": "2023-03-24T11:08:55.049Z"
   },
   {
    "duration": 29,
    "start_time": "2023-03-24T11:08:55.055Z"
   },
   {
    "duration": 88,
    "start_time": "2023-03-24T11:08:55.086Z"
   },
   {
    "duration": 4,
    "start_time": "2023-03-24T11:08:55.175Z"
   },
   {
    "duration": 6,
    "start_time": "2023-03-24T11:08:55.180Z"
   },
   {
    "duration": 17,
    "start_time": "2023-03-24T11:08:55.187Z"
   },
   {
    "duration": 110,
    "start_time": "2023-03-24T11:08:55.206Z"
   },
   {
    "duration": 5,
    "start_time": "2023-03-24T11:08:55.318Z"
   },
   {
    "duration": 136,
    "start_time": "2023-03-24T11:08:55.324Z"
   },
   {
    "duration": 20,
    "start_time": "2023-03-24T11:08:55.461Z"
   },
   {
    "duration": 4,
    "start_time": "2023-03-24T11:08:55.483Z"
   },
   {
    "duration": 20,
    "start_time": "2023-03-24T11:08:55.489Z"
   },
   {
    "duration": 0,
    "start_time": "2023-03-24T11:08:55.511Z"
   },
   {
    "duration": 0,
    "start_time": "2023-03-24T11:08:55.512Z"
   },
   {
    "duration": 0,
    "start_time": "2023-03-24T11:08:55.513Z"
   },
   {
    "duration": 0,
    "start_time": "2023-03-24T11:08:55.514Z"
   },
   {
    "duration": 0,
    "start_time": "2023-03-24T11:08:55.515Z"
   },
   {
    "duration": 0,
    "start_time": "2023-03-24T11:08:55.516Z"
   },
   {
    "duration": 0,
    "start_time": "2023-03-24T11:08:55.517Z"
   },
   {
    "duration": 0,
    "start_time": "2023-03-24T11:08:55.518Z"
   },
   {
    "duration": 0,
    "start_time": "2023-03-24T11:08:55.519Z"
   },
   {
    "duration": 0,
    "start_time": "2023-03-24T11:08:55.520Z"
   },
   {
    "duration": 0,
    "start_time": "2023-03-24T11:08:55.521Z"
   },
   {
    "duration": 0,
    "start_time": "2023-03-24T11:08:55.523Z"
   },
   {
    "duration": 0,
    "start_time": "2023-03-24T11:08:55.524Z"
   },
   {
    "duration": 0,
    "start_time": "2023-03-24T11:08:55.525Z"
   },
   {
    "duration": 0,
    "start_time": "2023-03-24T11:08:55.568Z"
   },
   {
    "duration": 0,
    "start_time": "2023-03-24T11:08:55.570Z"
   },
   {
    "duration": 0,
    "start_time": "2023-03-24T11:08:55.571Z"
   },
   {
    "duration": 14,
    "start_time": "2023-03-24T11:09:40.755Z"
   },
   {
    "duration": 22,
    "start_time": "2023-03-24T11:10:12.458Z"
   },
   {
    "duration": 12,
    "start_time": "2023-03-24T11:10:14.211Z"
   },
   {
    "duration": 12,
    "start_time": "2023-03-24T11:10:29.633Z"
   },
   {
    "duration": 18,
    "start_time": "2023-03-24T11:14:39.137Z"
   },
   {
    "duration": 18,
    "start_time": "2023-03-24T11:14:50.909Z"
   },
   {
    "duration": 19,
    "start_time": "2023-03-24T11:15:55.053Z"
   },
   {
    "duration": 28,
    "start_time": "2023-03-24T11:16:59.133Z"
   },
   {
    "duration": 26,
    "start_time": "2023-03-24T11:17:05.283Z"
   },
   {
    "duration": 4,
    "start_time": "2023-03-24T11:19:23.071Z"
   },
   {
    "duration": 5,
    "start_time": "2023-03-24T11:19:23.076Z"
   },
   {
    "duration": 38,
    "start_time": "2023-03-24T11:19:23.083Z"
   },
   {
    "duration": 4,
    "start_time": "2023-03-24T11:19:23.123Z"
   },
   {
    "duration": 19,
    "start_time": "2023-03-24T11:19:23.129Z"
   },
   {
    "duration": 66,
    "start_time": "2023-03-24T11:19:23.149Z"
   },
   {
    "duration": 3,
    "start_time": "2023-03-24T11:19:23.217Z"
   },
   {
    "duration": 6,
    "start_time": "2023-03-24T11:19:23.221Z"
   },
   {
    "duration": 12,
    "start_time": "2023-03-24T11:19:23.228Z"
   },
   {
    "duration": 128,
    "start_time": "2023-03-24T11:19:23.241Z"
   },
   {
    "duration": 5,
    "start_time": "2023-03-24T11:19:23.371Z"
   },
   {
    "duration": 133,
    "start_time": "2023-03-24T11:19:23.377Z"
   },
   {
    "duration": 13,
    "start_time": "2023-03-24T11:19:23.512Z"
   },
   {
    "duration": 3,
    "start_time": "2023-03-24T11:19:23.527Z"
   },
   {
    "duration": 20,
    "start_time": "2023-03-24T11:19:25.954Z"
   },
   {
    "duration": 14,
    "start_time": "2023-03-24T11:19:47.229Z"
   },
   {
    "duration": 4,
    "start_time": "2023-03-24T11:19:59.371Z"
   },
   {
    "duration": 4,
    "start_time": "2023-03-24T11:19:59.377Z"
   },
   {
    "duration": 38,
    "start_time": "2023-03-24T11:19:59.383Z"
   },
   {
    "duration": 3,
    "start_time": "2023-03-24T11:19:59.423Z"
   },
   {
    "duration": 22,
    "start_time": "2023-03-24T11:19:59.428Z"
   },
   {
    "duration": 60,
    "start_time": "2023-03-24T11:19:59.451Z"
   },
   {
    "duration": 3,
    "start_time": "2023-03-24T11:19:59.512Z"
   },
   {
    "duration": 6,
    "start_time": "2023-03-24T11:19:59.517Z"
   },
   {
    "duration": 22,
    "start_time": "2023-03-24T11:19:59.524Z"
   },
   {
    "duration": 109,
    "start_time": "2023-03-24T11:20:00.826Z"
   },
   {
    "duration": 36,
    "start_time": "2023-03-24T11:20:52.444Z"
   },
   {
    "duration": 5,
    "start_time": "2023-03-24T11:20:57.092Z"
   },
   {
    "duration": 7,
    "start_time": "2023-03-24T11:20:57.099Z"
   },
   {
    "duration": 48,
    "start_time": "2023-03-24T11:20:57.108Z"
   },
   {
    "duration": 4,
    "start_time": "2023-03-24T11:20:57.158Z"
   },
   {
    "duration": 20,
    "start_time": "2023-03-24T11:20:57.163Z"
   },
   {
    "duration": 65,
    "start_time": "2023-03-24T11:20:57.185Z"
   },
   {
    "duration": 4,
    "start_time": "2023-03-24T11:20:57.267Z"
   },
   {
    "duration": 5,
    "start_time": "2023-03-24T11:20:57.273Z"
   },
   {
    "duration": 23,
    "start_time": "2023-03-24T11:20:57.280Z"
   },
   {
    "duration": 68,
    "start_time": "2023-03-24T11:20:58.419Z"
   },
   {
    "duration": 36,
    "start_time": "2023-03-24T11:25:45.674Z"
   },
   {
    "duration": 41,
    "start_time": "2023-03-24T11:25:56.284Z"
   },
   {
    "duration": 45,
    "start_time": "2023-03-24T11:26:46.220Z"
   },
   {
    "duration": 35,
    "start_time": "2023-03-24T11:27:27.643Z"
   },
   {
    "duration": 4,
    "start_time": "2023-03-24T11:27:46.637Z"
   },
   {
    "duration": 5,
    "start_time": "2023-03-24T11:27:46.644Z"
   },
   {
    "duration": 37,
    "start_time": "2023-03-24T11:27:46.651Z"
   },
   {
    "duration": 4,
    "start_time": "2023-03-24T11:27:46.689Z"
   },
   {
    "duration": 30,
    "start_time": "2023-03-24T11:27:46.695Z"
   },
   {
    "duration": 74,
    "start_time": "2023-03-24T11:27:46.727Z"
   },
   {
    "duration": 4,
    "start_time": "2023-03-24T11:27:46.803Z"
   },
   {
    "duration": 6,
    "start_time": "2023-03-24T11:27:46.808Z"
   },
   {
    "duration": 16,
    "start_time": "2023-03-24T11:27:46.816Z"
   },
   {
    "duration": 119,
    "start_time": "2023-03-24T11:27:48.212Z"
   },
   {
    "duration": 5,
    "start_time": "2023-03-24T11:28:20.836Z"
   },
   {
    "duration": 5,
    "start_time": "2023-03-24T11:28:20.844Z"
   },
   {
    "duration": 38,
    "start_time": "2023-03-24T11:28:20.851Z"
   },
   {
    "duration": 3,
    "start_time": "2023-03-24T11:28:20.891Z"
   },
   {
    "duration": 17,
    "start_time": "2023-03-24T11:28:20.896Z"
   },
   {
    "duration": 65,
    "start_time": "2023-03-24T11:28:20.915Z"
   },
   {
    "duration": 2,
    "start_time": "2023-03-24T11:28:20.982Z"
   },
   {
    "duration": 6,
    "start_time": "2023-03-24T11:28:20.986Z"
   },
   {
    "duration": 17,
    "start_time": "2023-03-24T11:28:20.994Z"
   },
   {
    "duration": 127,
    "start_time": "2023-03-24T11:28:21.013Z"
   },
   {
    "duration": 5,
    "start_time": "2023-03-24T11:28:21.141Z"
   },
   {
    "duration": 137,
    "start_time": "2023-03-24T11:28:21.147Z"
   },
   {
    "duration": 501,
    "start_time": "2023-03-24T11:28:22.449Z"
   },
   {
    "duration": 418,
    "start_time": "2023-03-24T11:28:41.555Z"
   },
   {
    "duration": 4,
    "start_time": "2023-03-24T11:28:44.033Z"
   },
   {
    "duration": 3443,
    "start_time": "2023-03-24T11:28:45.075Z"
   },
   {
    "duration": 5,
    "start_time": "2023-03-24T11:42:51.626Z"
   },
   {
    "duration": 6,
    "start_time": "2023-03-24T11:42:51.633Z"
   },
   {
    "duration": 39,
    "start_time": "2023-03-24T11:42:51.641Z"
   },
   {
    "duration": 3,
    "start_time": "2023-03-24T11:42:51.682Z"
   },
   {
    "duration": 18,
    "start_time": "2023-03-24T11:42:51.687Z"
   },
   {
    "duration": 101,
    "start_time": "2023-03-24T11:42:51.707Z"
   },
   {
    "duration": 4,
    "start_time": "2023-03-24T11:42:51.809Z"
   },
   {
    "duration": 7,
    "start_time": "2023-03-24T11:42:51.815Z"
   },
   {
    "duration": 206,
    "start_time": "2023-03-24T11:42:51.823Z"
   },
   {
    "duration": 181,
    "start_time": "2023-03-24T11:42:52.031Z"
   },
   {
    "duration": 3,
    "start_time": "2023-03-24T11:42:52.214Z"
   },
   {
    "duration": 15,
    "start_time": "2023-03-24T11:42:52.218Z"
   },
   {
    "duration": 7,
    "start_time": "2023-03-24T11:42:52.234Z"
   },
   {
    "duration": 144,
    "start_time": "2023-03-24T11:42:52.242Z"
   },
   {
    "duration": 1828,
    "start_time": "2023-03-24T11:42:52.389Z"
   },
   {
    "duration": 0,
    "start_time": "2023-03-24T11:42:54.219Z"
   },
   {
    "duration": 0,
    "start_time": "2023-03-24T11:42:54.220Z"
   },
   {
    "duration": 0,
    "start_time": "2023-03-24T11:42:54.221Z"
   },
   {
    "duration": 0,
    "start_time": "2023-03-24T11:42:54.222Z"
   },
   {
    "duration": 0,
    "start_time": "2023-03-24T11:42:54.223Z"
   },
   {
    "duration": 0,
    "start_time": "2023-03-24T11:42:54.224Z"
   },
   {
    "duration": 0,
    "start_time": "2023-03-24T11:42:54.225Z"
   },
   {
    "duration": 0,
    "start_time": "2023-03-24T11:42:54.226Z"
   },
   {
    "duration": 0,
    "start_time": "2023-03-24T11:42:54.227Z"
   },
   {
    "duration": 0,
    "start_time": "2023-03-24T11:42:54.228Z"
   },
   {
    "duration": 0,
    "start_time": "2023-03-24T11:42:54.229Z"
   },
   {
    "duration": 0,
    "start_time": "2023-03-24T11:42:54.230Z"
   },
   {
    "duration": 0,
    "start_time": "2023-03-24T11:42:54.231Z"
   },
   {
    "duration": 0,
    "start_time": "2023-03-24T11:42:54.232Z"
   },
   {
    "duration": 0,
    "start_time": "2023-03-24T11:42:54.232Z"
   },
   {
    "duration": 0,
    "start_time": "2023-03-24T11:42:54.233Z"
   },
   {
    "duration": 0,
    "start_time": "2023-03-24T11:42:54.234Z"
   },
   {
    "duration": 0,
    "start_time": "2023-03-24T11:42:54.235Z"
   },
   {
    "duration": 0,
    "start_time": "2023-03-24T11:42:54.236Z"
   },
   {
    "duration": 396,
    "start_time": "2023-03-24T11:43:44.076Z"
   },
   {
    "duration": 4,
    "start_time": "2023-03-24T11:43:59.504Z"
   },
   {
    "duration": 3,
    "start_time": "2023-03-24T11:43:59.515Z"
   },
   {
    "duration": 37,
    "start_time": "2023-03-24T11:43:59.519Z"
   },
   {
    "duration": 3,
    "start_time": "2023-03-24T11:43:59.558Z"
   },
   {
    "duration": 16,
    "start_time": "2023-03-24T11:43:59.563Z"
   },
   {
    "duration": 166,
    "start_time": "2023-03-24T11:43:59.581Z"
   },
   {
    "duration": 4,
    "start_time": "2023-03-24T11:43:59.748Z"
   },
   {
    "duration": 16,
    "start_time": "2023-03-24T11:43:59.754Z"
   },
   {
    "duration": 196,
    "start_time": "2023-03-24T11:43:59.772Z"
   },
   {
    "duration": 182,
    "start_time": "2023-03-24T11:43:59.970Z"
   },
   {
    "duration": 3,
    "start_time": "2023-03-24T11:44:00.153Z"
   },
   {
    "duration": 55,
    "start_time": "2023-03-24T11:44:00.157Z"
   },
   {
    "duration": 51,
    "start_time": "2023-03-24T11:44:00.214Z"
   },
   {
    "duration": 169,
    "start_time": "2023-03-24T11:44:00.267Z"
   },
   {
    "duration": 603,
    "start_time": "2023-03-24T11:44:01.264Z"
   },
   {
    "duration": 6,
    "start_time": "2023-03-24T11:44:02.630Z"
   },
   {
    "duration": 4482,
    "start_time": "2023-03-24T11:44:03.790Z"
   },
   {
    "duration": 4732,
    "start_time": "2023-03-24T11:44:12.994Z"
   },
   {
    "duration": 132339,
    "start_time": "2023-03-24T11:44:26.295Z"
   },
   {
    "duration": 4,
    "start_time": "2023-03-24T11:47:47.077Z"
   },
   {
    "duration": 7,
    "start_time": "2023-03-24T11:47:47.084Z"
   },
   {
    "duration": 45,
    "start_time": "2023-03-24T11:47:47.093Z"
   },
   {
    "duration": 4,
    "start_time": "2023-03-24T11:47:47.140Z"
   },
   {
    "duration": 25,
    "start_time": "2023-03-24T11:47:47.147Z"
   },
   {
    "duration": 62,
    "start_time": "2023-03-24T11:47:47.174Z"
   },
   {
    "duration": 4,
    "start_time": "2023-03-24T11:47:47.237Z"
   },
   {
    "duration": 5,
    "start_time": "2023-03-24T11:47:47.269Z"
   },
   {
    "duration": 184,
    "start_time": "2023-03-24T11:47:47.275Z"
   },
   {
    "duration": 176,
    "start_time": "2023-03-24T11:47:47.461Z"
   },
   {
    "duration": 3,
    "start_time": "2023-03-24T11:47:47.638Z"
   },
   {
    "duration": 7,
    "start_time": "2023-03-24T11:47:47.642Z"
   },
   {
    "duration": 20,
    "start_time": "2023-03-24T11:47:47.651Z"
   },
   {
    "duration": 160,
    "start_time": "2023-03-24T11:47:47.673Z"
   },
   {
    "duration": 626,
    "start_time": "2023-03-24T11:47:47.834Z"
   },
   {
    "duration": 6,
    "start_time": "2023-03-24T11:47:48.462Z"
   },
   {
    "duration": 4392,
    "start_time": "2023-03-24T11:47:48.470Z"
   },
   {
    "duration": 4629,
    "start_time": "2023-03-24T11:47:52.863Z"
   },
   {
    "duration": 131400,
    "start_time": "2023-03-24T11:47:57.493Z"
   },
   {
    "duration": 7,
    "start_time": "2023-03-24T11:50:08.894Z"
   },
   {
    "duration": 7,
    "start_time": "2023-03-24T11:50:08.902Z"
   },
   {
    "duration": 348,
    "start_time": "2023-03-24T11:50:08.910Z"
   },
   {
    "duration": 63,
    "start_time": "2023-03-24T11:50:09.260Z"
   },
   {
    "duration": 154,
    "start_time": "2023-03-24T11:50:09.325Z"
   },
   {
    "duration": 711,
    "start_time": "2023-03-24T11:50:09.481Z"
   },
   {
    "duration": 1062,
    "start_time": "2023-03-24T11:50:10.198Z"
   },
   {
    "duration": 917,
    "start_time": "2023-03-24T11:50:11.269Z"
   },
   {
    "duration": 674,
    "start_time": "2023-03-24T11:50:12.187Z"
   },
   {
    "duration": 147340,
    "start_time": "2023-03-24T11:50:12.862Z"
   },
   {
    "duration": 74095,
    "start_time": "2023-03-24T11:52:40.204Z"
   },
   {
    "duration": 174059,
    "start_time": "2023-03-24T11:53:54.300Z"
   },
   {
    "duration": 0,
    "start_time": "2023-03-24T11:56:48.361Z"
   },
   {
    "duration": 0,
    "start_time": "2023-03-24T11:56:48.362Z"
   },
   {
    "duration": 0,
    "start_time": "2023-03-24T11:56:48.363Z"
   },
   {
    "duration": 5,
    "start_time": "2023-03-24T11:56:50.363Z"
   },
   {
    "duration": 5,
    "start_time": "2023-03-24T11:56:50.370Z"
   },
   {
    "duration": 38,
    "start_time": "2023-03-24T11:56:50.377Z"
   },
   {
    "duration": 3,
    "start_time": "2023-03-24T11:56:50.417Z"
   },
   {
    "duration": 45,
    "start_time": "2023-03-24T11:56:50.422Z"
   },
   {
    "duration": 58,
    "start_time": "2023-03-24T11:56:50.469Z"
   },
   {
    "duration": 3,
    "start_time": "2023-03-24T11:56:50.529Z"
   },
   {
    "duration": 34,
    "start_time": "2023-03-24T11:56:50.534Z"
   },
   {
    "duration": 204,
    "start_time": "2023-03-24T11:56:50.572Z"
   },
   {
    "duration": 206,
    "start_time": "2023-03-24T11:56:50.778Z"
   },
   {
    "duration": 3,
    "start_time": "2023-03-24T11:56:50.986Z"
   },
   {
    "duration": 6,
    "start_time": "2023-03-24T11:56:50.991Z"
   },
   {
    "duration": 20,
    "start_time": "2023-03-24T11:56:50.998Z"
   },
   {
    "duration": 140,
    "start_time": "2023-03-24T11:56:51.021Z"
   },
   {
    "duration": 635,
    "start_time": "2023-03-24T11:56:51.168Z"
   },
   {
    "duration": 4,
    "start_time": "2023-03-24T11:56:51.805Z"
   },
   {
    "duration": 4367,
    "start_time": "2023-03-24T11:56:51.811Z"
   },
   {
    "duration": 4766,
    "start_time": "2023-03-24T11:56:56.179Z"
   },
   {
    "duration": 8897,
    "start_time": "2023-03-24T11:57:00.947Z"
   },
   {
    "duration": 0,
    "start_time": "2023-03-24T11:57:09.845Z"
   },
   {
    "duration": 0,
    "start_time": "2023-03-24T11:57:09.846Z"
   },
   {
    "duration": 0,
    "start_time": "2023-03-24T11:57:09.848Z"
   },
   {
    "duration": 0,
    "start_time": "2023-03-24T11:57:09.848Z"
   },
   {
    "duration": 0,
    "start_time": "2023-03-24T11:57:09.849Z"
   },
   {
    "duration": 0,
    "start_time": "2023-03-24T11:57:09.850Z"
   },
   {
    "duration": 0,
    "start_time": "2023-03-24T11:57:09.869Z"
   },
   {
    "duration": 0,
    "start_time": "2023-03-24T11:57:09.870Z"
   },
   {
    "duration": 0,
    "start_time": "2023-03-24T11:57:09.871Z"
   },
   {
    "duration": 0,
    "start_time": "2023-03-24T11:57:09.872Z"
   },
   {
    "duration": 0,
    "start_time": "2023-03-24T11:57:09.873Z"
   },
   {
    "duration": 0,
    "start_time": "2023-03-24T11:57:09.874Z"
   },
   {
    "duration": 0,
    "start_time": "2023-03-24T11:57:09.875Z"
   },
   {
    "duration": 0,
    "start_time": "2023-03-24T11:57:09.876Z"
   },
   {
    "duration": 0,
    "start_time": "2023-03-24T11:57:09.878Z"
   },
   {
    "duration": 1275,
    "start_time": "2023-03-24T11:58:00.170Z"
   },
   {
    "duration": 3,
    "start_time": "2023-03-24T11:58:01.447Z"
   },
   {
    "duration": 72,
    "start_time": "2023-03-24T11:58:01.451Z"
   },
   {
    "duration": 3,
    "start_time": "2023-03-24T11:58:01.525Z"
   },
   {
    "duration": 102,
    "start_time": "2023-03-24T11:58:01.530Z"
   },
   {
    "duration": 78,
    "start_time": "2023-03-24T11:58:01.634Z"
   },
   {
    "duration": 3,
    "start_time": "2023-03-24T11:58:01.714Z"
   },
   {
    "duration": 40,
    "start_time": "2023-03-24T11:58:01.719Z"
   },
   {
    "duration": 213,
    "start_time": "2023-03-24T11:58:01.760Z"
   },
   {
    "duration": 196,
    "start_time": "2023-03-24T11:58:01.977Z"
   },
   {
    "duration": 4,
    "start_time": "2023-03-24T11:58:02.174Z"
   },
   {
    "duration": 56,
    "start_time": "2023-03-24T11:58:02.179Z"
   },
   {
    "duration": 49,
    "start_time": "2023-03-24T11:58:02.237Z"
   },
   {
    "duration": 175,
    "start_time": "2023-03-24T11:58:02.287Z"
   },
   {
    "duration": 636,
    "start_time": "2023-03-24T11:58:02.464Z"
   },
   {
    "duration": 4,
    "start_time": "2023-03-24T11:58:03.103Z"
   },
   {
    "duration": 4152,
    "start_time": "2023-03-24T11:58:03.108Z"
   },
   {
    "duration": 4605,
    "start_time": "2023-03-24T11:58:07.268Z"
   },
   {
    "duration": 13322,
    "start_time": "2023-03-24T11:58:11.875Z"
   },
   {
    "duration": 0,
    "start_time": "2023-03-24T11:58:25.199Z"
   },
   {
    "duration": 0,
    "start_time": "2023-03-24T11:58:25.200Z"
   },
   {
    "duration": 0,
    "start_time": "2023-03-24T11:58:25.202Z"
   },
   {
    "duration": 0,
    "start_time": "2023-03-24T11:58:25.203Z"
   },
   {
    "duration": 0,
    "start_time": "2023-03-24T11:58:25.204Z"
   },
   {
    "duration": 0,
    "start_time": "2023-03-24T11:58:25.206Z"
   },
   {
    "duration": 0,
    "start_time": "2023-03-24T11:58:25.207Z"
   },
   {
    "duration": 0,
    "start_time": "2023-03-24T11:58:25.208Z"
   },
   {
    "duration": 0,
    "start_time": "2023-03-24T11:58:25.210Z"
   },
   {
    "duration": 0,
    "start_time": "2023-03-24T11:58:25.211Z"
   },
   {
    "duration": 0,
    "start_time": "2023-03-24T11:58:25.212Z"
   },
   {
    "duration": 0,
    "start_time": "2023-03-24T11:58:25.213Z"
   },
   {
    "duration": 0,
    "start_time": "2023-03-24T11:58:25.215Z"
   },
   {
    "duration": 0,
    "start_time": "2023-03-24T11:58:25.216Z"
   },
   {
    "duration": 0,
    "start_time": "2023-03-24T11:58:25.217Z"
   },
   {
    "duration": 1265,
    "start_time": "2023-03-24T11:58:46.977Z"
   },
   {
    "duration": 3,
    "start_time": "2023-03-24T11:58:48.244Z"
   },
   {
    "duration": 43,
    "start_time": "2023-03-24T11:58:48.248Z"
   },
   {
    "duration": 3,
    "start_time": "2023-03-24T11:58:48.293Z"
   },
   {
    "duration": 25,
    "start_time": "2023-03-24T11:58:48.298Z"
   },
   {
    "duration": 87,
    "start_time": "2023-03-24T11:58:48.324Z"
   },
   {
    "duration": 4,
    "start_time": "2023-03-24T11:58:48.412Z"
   },
   {
    "duration": 6,
    "start_time": "2023-03-24T11:58:48.418Z"
   },
   {
    "duration": 217,
    "start_time": "2023-03-24T11:58:48.425Z"
   },
   {
    "duration": 192,
    "start_time": "2023-03-24T11:58:48.646Z"
   },
   {
    "duration": 3,
    "start_time": "2023-03-24T11:58:48.839Z"
   },
   {
    "duration": 4,
    "start_time": "2023-03-24T11:58:48.844Z"
   },
   {
    "duration": 20,
    "start_time": "2023-03-24T11:58:48.849Z"
   },
   {
    "duration": 146,
    "start_time": "2023-03-24T11:58:48.871Z"
   },
   {
    "duration": 625,
    "start_time": "2023-03-24T11:58:49.019Z"
   },
   {
    "duration": 3,
    "start_time": "2023-03-24T11:58:49.646Z"
   },
   {
    "duration": 4219,
    "start_time": "2023-03-24T11:58:49.651Z"
   },
   {
    "duration": 4462,
    "start_time": "2023-03-24T11:58:53.872Z"
   },
   {
    "duration": 129347,
    "start_time": "2023-03-24T11:58:58.337Z"
   },
   {
    "duration": 5,
    "start_time": "2023-03-24T12:01:07.686Z"
   },
   {
    "duration": 11,
    "start_time": "2023-03-24T12:01:07.692Z"
   },
   {
    "duration": 311,
    "start_time": "2023-03-24T12:01:07.704Z"
   },
   {
    "duration": 61,
    "start_time": "2023-03-24T12:01:08.017Z"
   },
   {
    "duration": 114,
    "start_time": "2023-03-24T12:01:08.080Z"
   },
   {
    "duration": 682,
    "start_time": "2023-03-24T12:01:08.195Z"
   },
   {
    "duration": 1101,
    "start_time": "2023-03-24T12:01:08.880Z"
   },
   {
    "duration": 899,
    "start_time": "2023-03-24T12:01:09.982Z"
   },
   {
    "duration": 687,
    "start_time": "2023-03-24T12:01:10.883Z"
   },
   {
    "duration": 148164,
    "start_time": "2023-03-24T12:01:11.572Z"
   },
   {
    "duration": 75380,
    "start_time": "2023-03-24T12:03:39.738Z"
   },
   {
    "duration": 217195,
    "start_time": "2023-03-24T12:04:55.120Z"
   },
   {
    "duration": 112,
    "start_time": "2023-03-24T12:08:32.317Z"
   },
   {
    "duration": 191362,
    "start_time": "2023-03-24T12:08:32.431Z"
   },
   {
    "duration": 217,
    "start_time": "2023-03-24T12:11:43.795Z"
   },
   {
    "duration": 213,
    "start_time": "2023-03-24T12:13:09.737Z"
   }
  ],
  "kernelspec": {
   "display_name": "Python 3 (ipykernel)",
   "language": "python",
   "name": "python3"
  },
  "language_info": {
   "codemirror_mode": {
    "name": "ipython",
    "version": 3
   },
   "file_extension": ".py",
   "mimetype": "text/x-python",
   "name": "python",
   "nbconvert_exporter": "python",
   "pygments_lexer": "ipython3",
   "version": "3.9.5"
  },
  "toc": {
   "base_numbering": 1,
   "nav_menu": {},
   "number_sections": true,
   "sideBar": true,
   "skip_h1_title": true,
   "title_cell": "Содержание",
   "title_sidebar": "Contents",
   "toc_cell": true,
   "toc_position": {},
   "toc_section_display": true,
   "toc_window_display": true
  }
 },
 "nbformat": 4,
 "nbformat_minor": 2
}
